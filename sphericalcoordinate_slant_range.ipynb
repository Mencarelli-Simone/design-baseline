{
 "cells": [
  {
   "cell_type": "code",
   "execution_count": 12,
   "outputs": [],
   "source": [
    "import numpy as np\n",
    "\n",
    "h, theta = 500e3, 30"
   ],
   "metadata": {
    "collapsed": false,
    "pycharm": {
     "name": "#%%\n"
    }
   }
  },
  {
   "cell_type": "markdown",
   "source": [
    "# Sidenote: true slant range associated to the looking angle\n",
    "\n",
    "## INCOMPLETE. valid, but closed form can be gound in gerbert thesis\n",
    "Using a spherical earth model, we find the slant range associated to the incidence angle theta.\n",
    "1. we start finding the spherical earth range associated to the incidence angle inverting:\n",
    "   \\begin{equation}\n",
    "   \\Theta = \\operatorname{atan}{\\left(\\frac{R_{E} \\sin{\\left(\\frac{R_{G}}{R_{E}} \\right)}}{H - R_{E} \\cos{\\left(\\frac{R_{G}}{R_{E}} \\right)} + R_{E}} \\right)} + \\frac{R_{G}}{R_{E}}\n",
    "   \\end{equation}\n",
    "   $R_E$ = Earth radius, $R_G$ = ground range on sphere, H = orbital height"
   ],
   "metadata": {
    "collapsed": false,
    "pycharm": {
     "name": "#%% md\n"
    }
   }
  },
  {
   "cell_type": "code",
   "execution_count": 13,
   "outputs": [
    {
     "name": "stdout",
     "output_type": "stream",
     "text": [
      "initial guess  288675.1345948129\n",
      "exact ground range  [264573.14284873]\n"
     ]
    }
   ],
   "source": [
    "from numpy import arctan, tan, sin, cos\n",
    "from scipy.optimize import fsolve\n",
    "\n",
    "\n",
    "def theta_from_rg(rg, H, re=6371e3):\n",
    "    \"\"\"\n",
    "    incidence angle given\n",
    "    :param Rg: ground range on spherical earth\n",
    "    :param Re: earth radius\n",
    "    :param H: orbital height\n",
    "    :return:\n",
    "    \"\"\"\n",
    "    t = arctan(re * sin(rg / re) / (H - re * cos(rg / re) + re)) + rg / re\n",
    "    return t\n",
    "\n",
    "\n",
    "rg_initial_guess = h * tan(theta * np.pi / 180)\n",
    "print('initial guess ', rg_initial_guess)\n",
    "rg = fsolve(lambda r: theta_from_rg(r, h) - (theta * np.pi / 180), rg_initial_guess)\n",
    "print('exact ground range ', rg)"
   ],
   "metadata": {
    "collapsed": false,
    "pycharm": {
     "name": "#%%\n"
    }
   }
  },
  {
   "cell_type": "markdown",
   "source": [
    "    2. The exact slant range is then given by:\n",
    "        \\begin{equation}\n",
    "            R = \\dfrac{H - R_E  \\cos\\left(\\frac{R_{G}}{R_{E}} \\right) + R_E}{\\cos\\left( \\Theta - \\dfrac{R_G}{R_E}\\right)}\n",
    "        \\end{equation}\n"
   ],
   "metadata": {
    "collapsed": false,
    "pycharm": {
     "name": "#%% md\n"
    }
   }
  },
  {
   "cell_type": "code",
   "execution_count": 14,
   "outputs": [
    {
     "name": "stdout",
     "output_type": "stream",
     "text": [
      "slant range  [613091.80695316]\n"
     ]
    }
   ],
   "source": [
    "def slant_range_spherical(H, th, rg, re=6371e3):\n",
    "    \"\"\"\n",
    "    correct slant range for spherical earth\n",
    "    :param H: orbital height\n",
    "    :param th: incidence angle\n",
    "    :param rg: ground range on spherical earth\n",
    "    :param re: earth radius\n",
    "    :return: correct slant range\n",
    "    \"\"\"\n",
    "    ran = (H - re * cos(rg / re) + re) / (cos(th) - (rg / re))\n",
    "    return ran\n",
    "\n",
    "\n",
    "slant_range = slant_range_spherical(h, theta * np.pi / 180, rg)\n",
    "print('slant range ', slant_range)"
   ],
   "metadata": {
    "collapsed": false,
    "pycharm": {
     "name": "#%%\n"
    }
   }
  },
  {
   "cell_type": "markdown",
   "source": [
    "# Altogether Now: slant range from incidence angle on spherical earth\n",
    "specification: a function that given the looking angle returns the slant range (and the ground range perhaps)\n",
    "\n",
    "orbial height, earth radius and propagation speed are passed as standard (hidden) parameters"
   ],
   "metadata": {
    "collapsed": false,
    "pycharm": {
     "name": "#%% md\n"
    }
   }
  },
  {
   "cell_type": "code",
   "execution_count": 15,
   "outputs": [],
   "source": [
    "from numpy import arctan, tan, sin, cos, vectorize, arctan2\n",
    "from scipy.optimize import fsolve\n",
    "\n",
    "\n",
    "def range_from_theta(Theta, h=500e3, re=6371e3):\n",
    "    \"\"\"\n",
    "    returns the slant range and spherical earth ground range given the incidence angle\n",
    "    :param Theta: incidence angle in degrees, must be between 0 and 90\n",
    "    :param h: orbital height, default 500 km\n",
    "    :param re: earth radius, default 6,371 km\n",
    "    :return: (slant_range, ground_range)\n",
    "    \"\"\"\n",
    "    ## step 1 find the ground range\n",
    "    # equation to invert numerically (theta from ground range)\n",
    "    th = lambda r_g: (arctan2(re * sin(r_g / re), (h - re * cos(r_g / re) + re)) + (r_g / re)) - (Theta * np.pi / 180)\n",
    "    # intial guess for the solver\n",
    "    rg_initial_guess = h * tan(Theta * np.pi / 180)\n",
    "    # numerical solution\n",
    "    rg = fsolve(th, rg_initial_guess)\n",
    "\n",
    "    ## step 2 find the slant range\n",
    "    r = (h + re - re * cos(rg / re)) / cos((Theta * np.pi / 180) - (rg / re))\n",
    "\n",
    "    ## finally return all\n",
    "    return r, rg\n",
    "\n"
   ],
   "metadata": {
    "collapsed": false,
    "pycharm": {
     "name": "#%%\n"
    }
   }
  },
  {
   "cell_type": "code",
   "execution_count": 16,
   "outputs": [
    {
     "data": {
      "text/plain": "(array([2475.49480715]), array([2347.85733492]))"
     },
     "execution_count": 16,
     "metadata": {},
     "output_type": "execute_result"
    }
   ],
   "source": [
    "range_from_theta(89.10459,h=500,re=6371)"
   ],
   "metadata": {
    "collapsed": false,
    "pycharm": {
     "name": "#%%\n"
    }
   }
  },
  {
   "cell_type": "code",
   "execution_count": 17,
   "outputs": [],
   "source": [
    "theta = np.linspace(0, 90, 100)"
   ],
   "metadata": {
    "collapsed": false,
    "pycharm": {
     "name": "#%%\n"
    }
   }
  },
  {
   "cell_type": "code",
   "execution_count": 18,
   "outputs": [],
   "source": [
    "rs, rgg = range_from_theta(theta)"
   ],
   "metadata": {
    "collapsed": false,
    "pycharm": {
     "name": "#%%\n"
    }
   }
  },
  {
   "cell_type": "code",
   "execution_count": 19,
   "outputs": [
    {
     "data": {
      "text/plain": "(100,)"
     },
     "execution_count": 19,
     "metadata": {},
     "output_type": "execute_result"
    }
   ],
   "source": [
    "rs\n",
    "rs.shape"
   ],
   "metadata": {
    "collapsed": false,
    "pycharm": {
     "name": "#%%\n"
    }
   }
  },
  {
   "cell_type": "code",
   "execution_count": 20,
   "outputs": [
    {
     "data": {
      "text/plain": "[<matplotlib.lines.Line2D at 0x2494ca92910>]"
     },
     "execution_count": 20,
     "metadata": {},
     "output_type": "execute_result"
    },
    {
     "data": {
      "text/plain": "<Figure size 640x480 with 1 Axes>",
      "image/png": "[encoded data removed]"
     },
     "metadata": {},
     "output_type": "display_data"
    }
   ],
   "source": [
    "import matplotlib.pyplot as plt\n",
    "\n",
    "plt.plot(theta, rs)\n",
    "plt.plot(theta,rgg)"
   ],
   "metadata": {
    "collapsed": false,
    "pycharm": {
     "name": "#%%\n"
    }
   }
  },
  {
   "cell_type": "code",
   "execution_count": 20,
   "outputs": [],
   "source": [],
   "metadata": {
    "collapsed": false,
    "pycharm": {
     "name": "#%%\n"
    }
   }
  },
  {
   "cell_type": "code",
   "execution_count": 20,
   "outputs": [],
   "source": [],
   "metadata": {
    "collapsed": false,
    "pycharm": {
     "name": "#%%\n"
    }
   }
  }
 ],
 "metadata": {
  "kernelspec": {
   "display_name": "Python 3",
   "language": "python",
   "name": "python3"
  },
  "language_info": {
   "codemirror_mode": {
    "name": "ipython",
    "version": 2
   },
   "file_extension": ".py",
   "mimetype": "text/x-python",
   "name": "python",
   "nbconvert_exporter": "python",
   "pygments_lexer": "ipython2",
   "version": "2.7.6"
  }
 },
 "nbformat": 4,
 "nbformat_minor": 0
}