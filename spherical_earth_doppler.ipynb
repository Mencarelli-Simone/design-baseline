{
 "cells": [
  {
   "cell_type": "markdown",
   "source": [
    "# Range walk in a spherical earth geometry\n",
    "from the appendix of the thesis *\"Multi-channel Azimuth Processing for High-Resolution Wide-Swath SAR Imaging\"* by N. Gerbert:\n",
    "\\begin{equation}\n",
    "    R(t) = \\sqrt{(R_E + h)^2 + R_E^2 -2(R_E+h)R_E \\cos(\\theta_e) \\cos\\left(\\dfrac{v_s}{R_E + h}t\\right)  }\n",
    "\\end{equation}\n",
    "\\begin{equation}\n",
    "\\theta_e = \\dfrac{R_g}{R_E}\n",
    "\\end{equation}\n",
    "$R_g$ point ground range, $R_E$ Earth radius\n",
    "$\\theta_e$ can also be written as function of the slant (closest approach) range and/or the incidence angle"
   ],
   "metadata": {
    "collapsed": false
   }
  },
  {
   "cell_type": "markdown",
   "source": [
    "lets find the derivatives and taylor expansion for a fixed $\\theta_e$ (ground range point)\n",
    "to simplify:\n",
    "$ A = (R_E + h)^2 + R_E^2 = \\text{constant}$\\\n",
    "$ B = 2(R_E+h)R_E \\cos(\\theta_e)= \\text{constant}$\\\n",
    "$\\nu = \\dfrac{v_s}{R_E + h} = \\text{constant}$\\\n",
    "then\n",
    "$R(t) = \\sqrt{A-B\\cos(\\nu t)}$"
   ],
   "metadata": {
    "collapsed": false
   }
  },
  {
   "cell_type": "code",
   "execution_count": 37,
   "outputs": [
    {
     "data": {
      "text/plain": "sqrt(A - B) + t**4*sqrt(A - B)*(-B**2*\\nu**4/(32*(A - B)**2) - B*\\nu**4/(48*(A - B))) + B*\\nu**2*t**2/(4*sqrt(A - B)) + O(t**5)",
      "text/latex": "$\\displaystyle \\sqrt{A - B} + t^{4} \\sqrt{A - B} \\left(- \\frac{B^{2} \\nu^{4}}{32 \\left(A - B\\right)^{2}} - \\frac{B \\nu^{4}}{48 \\left(A - B\\right)}\\right) + \\frac{B \\nu^{2} t^{2}}{4 \\sqrt{A - B}} + O\\left(t^{5}\\right)$"
     },
     "execution_count": 37,
     "metadata": {},
     "output_type": "execute_result"
    }
   ],
   "source": [
    "import sympy as sp\n",
    "\n",
    "a, b, v, t = sp.symbols(('A', 'B', '\\\\nu', 't'))\n",
    "Re, h, theta_e, vs = sp.symbols(('R_e', 'h', '\\\\theta_e', 'v_s'))\n",
    "A = (Re + h) ** 2 + Re ** 2\n",
    "B = 2 * (Re + h) * Re * sp.cos(theta_e)\n",
    "Nu = vs / (Re + h)\n",
    "range = sp.sqrt(a - b * sp.cos(v * t))\n",
    "range.series(t, 0, n=5)"
   ],
   "metadata": {
    "collapsed": false
   }
  },
  {
   "cell_type": "code",
   "execution_count": 38,
   "outputs": [
    {
     "data": {
      "text/plain": "sqrt(A - B)",
      "text/latex": "$\\displaystyle \\sqrt{A - B}$"
     },
     "execution_count": 38,
     "metadata": {},
     "output_type": "execute_result"
    }
   ],
   "source": [
    "eq = sp.sqrt(a - b)\n",
    "eq"
   ],
   "metadata": {
    "collapsed": false
   }
  },
  {
   "cell_type": "code",
   "execution_count": 39,
   "outputs": [
    {
     "data": {
      "text/plain": "sqrt(R_e**2 - R_e*(2*R_e + 2*h)*cos(\\theta_e) + (R_e + h)**2)",
      "text/latex": "$\\displaystyle \\sqrt{R_{e}^{2} - R_{e} \\left(2 R_{e} + 2 h\\right) \\cos{\\left(\\theta_{e} \\right)} + \\left(R_{e} + h\\right)^{2}}$"
     },
     "execution_count": 39,
     "metadata": {},
     "output_type": "execute_result"
    }
   ],
   "source": [
    "eq.subs([(a, A), (b, B)])"
   ],
   "metadata": {
    "collapsed": false
   }
  },
  {
   "cell_type": "markdown",
   "source": [
    "with the first derivative being"
   ],
   "metadata": {
    "collapsed": false
   }
  },
  {
   "cell_type": "code",
   "execution_count": 40,
   "outputs": [
    {
     "name": "stdout",
     "output_type": "stream",
     "text": [
      "R'(t)\n"
     ]
    },
    {
     "data": {
      "text/plain": "B*\\nu*sin(\\nu*t)/(2*sqrt(A - B*cos(\\nu*t)))",
      "text/latex": "$\\displaystyle \\frac{B \\nu \\sin{\\left(\\nu t \\right)}}{2 \\sqrt{A - B \\cos{\\left(\\nu t \\right)}}}$"
     },
     "execution_count": 40,
     "metadata": {},
     "output_type": "execute_result"
    }
   ],
   "source": [
    "print(\"R\\'(t)\")\n",
    "r1 = sp.diff(range, t)\n",
    "r1"
   ],
   "metadata": {
    "collapsed": false
   }
  },
  {
   "cell_type": "code",
   "execution_count": 41,
   "outputs": [
    {
     "name": "stdout",
     "output_type": "stream",
     "text": [
      "=\n"
     ]
    },
    {
     "data": {
      "text/plain": "R_e*\\nu*(R_e + h)*sin(\\nu*t)*cos(\\theta_e)/sqrt(R_e**2 - 2*R_e*(R_e + h)*cos(\\theta_e)*cos(\\nu*t) + (R_e + h)**2)",
      "text/latex": "$\\displaystyle \\frac{R_{e} \\nu \\left(R_{e} + h\\right) \\sin{\\left(\\nu t \\right)} \\cos{\\left(\\theta_{e} \\right)}}{\\sqrt{R_{e}^{2} - 2 R_{e} \\left(R_{e} + h\\right) \\cos{\\left(\\theta_{e} \\right)} \\cos{\\left(\\nu t \\right)} + \\left(R_{e} + h\\right)^{2}}}$"
     },
     "execution_count": 41,
     "metadata": {},
     "output_type": "execute_result"
    }
   ],
   "source": [
    "print('=')\n",
    "\n",
    "r1a = r1.subs([(a, A), (b, B)])\n",
    "r1a.simplify()"
   ],
   "metadata": {
    "collapsed": false
   }
  },
  {
   "cell_type": "markdown",
   "source": [
    "and the second derivative"
   ],
   "metadata": {
    "collapsed": false
   }
  },
  {
   "cell_type": "code",
   "execution_count": 42,
   "outputs": [
    {
     "name": "stdout",
     "output_type": "stream",
     "text": [
      "R''(t)\n"
     ]
    },
    {
     "data": {
      "text/plain": "-B*\\nu**2*(-2*A*cos(\\nu*t) + B*cos(\\nu*t)**2 + B)/(4*(A - B*cos(\\nu*t))**(3/2))",
      "text/latex": "$\\displaystyle - \\frac{B \\nu^{2} \\left(- 2 A \\cos{\\left(\\nu t \\right)} + B \\cos^{2}{\\left(\\nu t \\right)} + B\\right)}{4 \\left(A - B \\cos{\\left(\\nu t \\right)}\\right)^{\\frac{3}{2}}}$"
     },
     "execution_count": 42,
     "metadata": {},
     "output_type": "execute_result"
    }
   ],
   "source": [
    "print(\"R\\'\\'(t)\")\n",
    "r2 = (sp.diff(range, t, 2))\n",
    "r2 = r2.simplify()\n",
    "r2"
   ],
   "metadata": {
    "collapsed": false
   }
  },
  {
   "cell_type": "code",
   "execution_count": 54,
   "outputs": [
    {
     "name": "stdout",
     "output_type": "stream",
     "text": [
      "- \\frac{4 \\left(A - B \\cos{\\left(\\nu t \\right)}\\right)^{\\frac{3}{2}}}{B \\nu^{2} \\left(- 2 A \\cos{\\left(\\nu t \\right)} + B \\cos^{2}{\\left(\\nu t \\right)} + B\\right)}\n"
     ]
    }
   ],
   "source": [
    "print(latex(1 / r2))"
   ],
   "metadata": {
    "collapsed": false
   }
  },
  {
   "cell_type": "code",
   "execution_count": 43,
   "outputs": [],
   "source": [],
   "metadata": {
    "collapsed": false
   }
  },
  {
   "cell_type": "code",
   "execution_count": 44,
   "outputs": [
    {
     "data": {
      "text/plain": "-R_e*\\nu**2*(R_e + h)*(R_e*(R_e + h)*cos(\\theta_e)*cos(\\nu*t)**2 + R_e*(R_e + h)*cos(\\theta_e) - (R_e**2 + (R_e + h)**2)*cos(\\nu*t))*cos(\\theta_e)/(R_e**2 - 2*R_e*(R_e + h)*cos(\\theta_e)*cos(\\nu*t) + (R_e + h)**2)**(3/2)",
      "text/latex": "$\\displaystyle - \\frac{R_{e} \\nu^{2} \\left(R_{e} + h\\right) \\left(R_{e} \\left(R_{e} + h\\right) \\cos{\\left(\\theta_{e} \\right)} \\cos^{2}{\\left(\\nu t \\right)} + R_{e} \\left(R_{e} + h\\right) \\cos{\\left(\\theta_{e} \\right)} - \\left(R_{e}^{2} + \\left(R_{e} + h\\right)^{2}\\right) \\cos{\\left(\\nu t \\right)}\\right) \\cos{\\left(\\theta_{e} \\right)}}{\\left(R_{e}^{2} - 2 R_{e} \\left(R_{e} + h\\right) \\cos{\\left(\\theta_{e} \\right)} \\cos{\\left(\\nu t \\right)} + \\left(R_{e} + h\\right)^{2}\\right)^{\\frac{3}{2}}}$"
     },
     "execution_count": 44,
     "metadata": {},
     "output_type": "execute_result"
    }
   ],
   "source": [
    "pippo = r2.subs([(a, A), (b, B)])\n",
    "pippo.simplify()"
   ],
   "metadata": {
    "collapsed": false
   }
  },
  {
   "cell_type": "markdown",
   "source": [
    "# Azimuth axis definition\n",
    "The azimuth distance is defined here as the distance from a reference point on a circle with constant $\\theta_e$\n",
    "i.e. choosing the appropriate time reference\n",
    "\\begin{equation}\n",
    "\\text{Az} = R_E\\dfrac{v_s}{R_E + h}t\\cos(\\Theta_E)\n",
    "\\end{equation}\n",
    "linearly dependent from $t$"
   ],
   "metadata": {
    "collapsed": false
   }
  },
  {
   "cell_type": "markdown",
   "source": [
    "# Range Doppler signal stationary phase approximation\n",
    "The received radar slow time signal is in the form:\n",
    "\\begin{equation}\n",
    "    u(t) = a(t) \\exp\\left[ j\\Theta(t)\\right]\n",
    "\\end{equation}\n",
    "where $\\Theta(t)$ is the phase shift associated to the true time delay of a single point on earth.\n",
    "Therefore\n",
    "\\begin{equation}\n",
    "    \\Theta(t) = - 4 \\pi \\dfrac{R(t)}{\\lambda}\n",
    "\\end{equation}\n",
    "with $\\lambda$ = signal wavelength\n",
    "\n",
    "The (Doppler) spectrum of u(t) is then, using POSP:\n",
    "\\begin{equation}\n",
    "    U(f) \\approx \\sqrt{2 \\pi}\\ \\dfrac{a(t_k)}{\\sqrt{\\left| \\Theta''(t_k)\\right|}} \\exp\\left\\{ j \\left[ -2\\pi f\\ t_k + \\Theta(t_k) + \\dfrac{\\pi}{4}\\right]\\right\\}\n",
    "\\end{equation}\n",
    "Note $t_k$ is a function of frequency\\\n",
    "I.e. $t_k$ is the **stationary phase point** relating time to frequency, defined as:\n",
    "\\begin{equation}\n",
    "    2 \\pi f = \\Theta'(t_k)\n",
    "\\end{equation}"
   ],
   "metadata": {
    "collapsed": false
   }
  },
  {
   "cell_type": "markdown",
   "source": [
    "## Slow Time to Doppler frequency coordinate conversion\n",
    "\\begin{equation}\n",
    "    f_k = \\dfrac{\\Theta'(t)}{2 \\pi} = \\dfrac{- 4 \\pi R'(t)}{2 \\pi \\lambda} = \\dfrac{- 2 R'(t)}{\\lambda}\n",
    "\\end{equation}"
   ],
   "metadata": {
    "collapsed": false
   }
  },
  {
   "cell_type": "code",
   "execution_count": 45,
   "outputs": [
    {
     "data": {
      "text/plain": "-B*\\nu*sin(\\nu*t)/(\\lambda*sqrt(A - B*cos(\\nu*t)))",
      "text/latex": "$\\displaystyle - \\frac{B \\nu \\sin{\\left(\\nu t \\right)}}{\\lambda \\sqrt{A - B \\cos{\\left(\\nu t \\right)}}}$"
     },
     "execution_count": 45,
     "metadata": {},
     "output_type": "execute_result"
    }
   ],
   "source": [
    "from sympy import *\n",
    "\n",
    "ri, lam, f = symbols((\"R'\", '\\lambda', 'f'))\n",
    "\n",
    "freq = - 2 * ri / lam\n",
    "freq = freq.subs(ri, r1)\n",
    "freq\n"
   ],
   "metadata": {
    "collapsed": false
   }
  },
  {
   "cell_type": "code",
   "execution_count": 46,
   "outputs": [
    {
     "data": {
      "text/plain": "'\\\\frac{B^{2} \\\\nu^{2} \\\\sin^{2}{\\\\left(\\\\nu t \\\\right)}}{\\\\lambda^{2} \\\\left(A - B \\\\cos{\\\\left(\\\\nu t \\\\right)}\\\\right)}'"
     },
     "execution_count": 46,
     "metadata": {},
     "output_type": "execute_result"
    }
   ],
   "source": [
    "latex(freq ** 2)"
   ],
   "metadata": {
    "collapsed": false
   }
  },
  {
   "cell_type": "markdown",
   "source": [
    "## Doppler Frequency to Slow time coordinate conversion\n",
    "we just need to solve the above for t\n",
    "\\begin{equation}\n",
    " f^2 = \\frac{B^{2} \\nu^{2} \\sin^{2}{\\left(\\nu t \\right)}}{\\lambda^{2} \\left(A - B \\cos{\\left(\\nu t \\right)}\\right)}\n",
    "\\end{equation}\n",
    "using only the cosine\n",
    "\\begin{equation}\n",
    " f^2 = \\frac{B^{2} \\nu^{2} \\left(1-\\cos^{2}{\\left(\\nu t \\right)}\\right)}{\\lambda^{2} \\left(A - B \\cos{\\left(\\nu t \\right)}\\right)}\n",
    "\\end{equation}\n",
    "\n",
    "substituting $cos(\\nu t)$ with x\n",
    "\\begin{equation}\n",
    " f^2 = \\frac{B^{2} \\nu^{2} \\left(1-x^2\\right)}{\\lambda^{2} \\left(A - B x\\right)}\n",
    "\\end{equation}\n"
   ],
   "metadata": {
    "collapsed": false
   }
  },
  {
   "cell_type": "code",
   "execution_count": 47,
   "outputs": [
    {
     "data": {
      "text/plain": "B**2*\\nu**2*(1 - x**2)/(\\lambda**2*(A - B*x)) - f**2",
      "text/latex": "$\\displaystyle \\frac{B^{2} \\nu^{2} \\cdot \\left(1 - x^{2}\\right)}{\\lambda^{2} \\left(A - B x\\right)} - f^{2}$"
     },
     "execution_count": 47,
     "metadata": {},
     "output_type": "execute_result"
    }
   ],
   "source": [
    "x = symbols('x')\n",
    "equation = b ** 2 * v ** 2 * (1 - x ** 2) / (lam ** 2 * (a - b * x)) - f ** 2\n",
    "equation"
   ],
   "metadata": {
    "collapsed": false
   }
  },
  {
   "cell_type": "code",
   "execution_count": 48,
   "outputs": [
    {
     "data": {
      "text/plain": "[(\\lambda**2*f**2 - sqrt(-4*A*\\lambda**2*\\nu**2*f**2 + 4*B**2*\\nu**4 + \\lambda**4*f**4))/(2*B*\\nu**2),\n (\\lambda**2*f**2 + sqrt(-4*A*\\lambda**2*\\nu**2*f**2 + 4*B**2*\\nu**4 + \\lambda**4*f**4))/(2*B*\\nu**2)]"
     },
     "execution_count": 48,
     "metadata": {},
     "output_type": "execute_result"
    }
   ],
   "source": [
    "nn = solve(equation, x)\n",
    "nn"
   ],
   "metadata": {
    "collapsed": false
   }
  },
  {
   "cell_type": "code",
   "execution_count": 49,
   "outputs": [
    {
     "data": {
      "text/plain": "(\\lambda**2*f**2 - sqrt(-4*A*\\lambda**2*\\nu**2*f**2 + 4*B**2*\\nu**4 + \\lambda**4*f**4))/(2*B*\\nu**2)",
      "text/latex": "$\\displaystyle \\frac{\\lambda^{2} f^{2} - \\sqrt{- 4 A \\lambda^{2} \\nu^{2} f^{2} + 4 B^{2} \\nu^{4} + \\lambda^{4} f^{4}}}{2 B \\nu^{2}}$"
     },
     "execution_count": 49,
     "metadata": {},
     "output_type": "execute_result"
    }
   ],
   "source": [
    "nn[0].simplify()"
   ],
   "metadata": {
    "collapsed": false
   }
  },
  {
   "cell_type": "code",
   "execution_count": 50,
   "outputs": [
    {
     "name": "stdout",
     "output_type": "stream",
     "text": [
      "\\frac{\\lambda^{2} f^{2} + \\sqrt{- 4 A \\lambda^{2} \\nu^{2} f^{2} + 4 B^{2} \\nu^{4} + \\lambda^{4} f^{4}}}{2 B \\nu^{2}}\n"
     ]
    }
   ],
   "source": [
    "print(latex(nn[1].simplify()))"
   ],
   "metadata": {
    "collapsed": false
   }
  },
  {
   "cell_type": "markdown",
   "source": [
    "tHIS OnE has physical meaning"
   ],
   "metadata": {
    "collapsed": false
   }
  },
  {
   "cell_type": "markdown",
   "source": [
    "Then assuming the choice of the root is symmetrical with respect of the cosine:\n",
    "\\begin{equation}\n",
    "    \\cos(\\nu t) = \\frac{\\lambda^{2} f^{2} + \\sqrt{- 4 A \\lambda^{2} \\nu^{2} f^{2} + 4 B^{2} \\nu^{4} + \\lambda^{4} f^{4}}}{2 B \\nu^{2}}\n",
    "\\end{equation}\n",
    "\n",
    "considering that we are only interested in $|\\nu t| < \\pi/2$ (horizon) we can write:\n",
    "\\begin{equation}\n",
    "    t_k =\\pm \\dfrac{1}{\\nu}\\ \\arccos{\\left(\\frac{\\lambda^{2} f^{2} + \\sqrt{- 4 A \\lambda^{2} \\nu^{2} f^{2} + 4 B^{2} \\nu^{4} + \\lambda^{4} f^{4}}}{2 B \\nu^{2}}\\right)}\n",
    "\\end{equation}\n",
    "Remembering that negative t have positive doppler shifts and vice versa\\\n",
    "t can now be related to a point in azimuth"
   ],
   "metadata": {
    "collapsed": false
   }
  },
  {
   "cell_type": "markdown",
   "source": [
    "## Stationary Phase Spectrum amplitude\n",
    "\\begin{equation}\n",
    "|U(f)| \\approx \\sqrt{2 \\pi}\\ \\dfrac{a(t_k)}{\\sqrt{\\left| \\Theta''(t_k)\\right|}}\n",
    "\\end{equation}\n",
    "\n",
    "the stationary point scaling factor in doppler is then:\n",
    "\n",
    "\\begin{equation}\n",
    "    S_f = \\dfrac{\\sqrt{2 \\pi}}{\\sqrt{\\left| \\Theta''(t_k)\\right|}} = \\sqrt{\\dfrac{\\lambda}{2\\ |R''(t_k)|}} = \\sqrt{\\lambda}\n",
    "    \\sqrt{ \\left| - \\frac{2 \\left(A - B \\cos{\\left(\\nu t \\right)}\\right)^{\\frac{3}{2}}}{B \\nu^{2} \\left(- 2 A \\cos{\\left(\\nu t \\right)} + B \\cos^{2}{\\left(\\nu t \\right)} + B\\right)} \\right|}\n",
    "\\end{equation}\n"
   ],
   "metadata": {
    "collapsed": false
   }
  },
  {
   "cell_type": "code",
   "execution_count": 51,
   "outputs": [
    {
     "data": {
      "text/plain": "sqrt(2)*sqrt(\\lambda/Abs(B*\\nu**2*(-2*A*cos(\\nu*t) + B*cos(\\nu*t)**2 + B)))*sqrt(Abs((A - B*cos(\\nu*t))**(3/2)))",
      "text/latex": "$\\displaystyle \\sqrt{2} \\sqrt{\\frac{\\lambda}{\\left|{B \\nu^{2} \\left(- 2 A \\cos{\\left(\\nu t \\right)} + B \\cos^{2}{\\left(\\nu t \\right)} + B\\right)}\\right|}} \\sqrt{\\left|{\\left(A - B \\cos{\\left(\\nu t \\right)}\\right)^{\\frac{3}{2}}}\\right|}$"
     },
     "execution_count": 51,
     "metadata": {},
     "output_type": "execute_result"
    }
   ],
   "source": [
    "Sf = sqrt(lam / (2 * abs(r2)))\n",
    "Sf"
   ],
   "metadata": {
    "collapsed": false
   }
  },
  {
   "cell_type": "code",
   "execution_count": 5,
   "outputs": [],
   "source": [
    "from sympy import *\n",
    "\n",
    "# r0 from looking angle\n",
    "r0, re, h, costhetal = symbols(('R_0', 'R_e', 'h', '\\\\cos{\\\\theta_L}'))"
   ],
   "metadata": {
    "collapsed": false
   }
  },
  {
   "cell_type": "code",
   "execution_count": 7,
   "outputs": [
    {
     "data": {
      "text/plain": "R_0**2 - 2*R_0*\\cos{\\theta_L}*(R_e + h) - R_e**2 + (R_e + h)**2",
      "text/latex": "$\\displaystyle R_{0}^{2} - 2 R_{0} \\cos{\\theta_L} \\left(R_{e} + h\\right) - R_{e}^{2} + \\left(R_{e} + h\\right)^{2}$"
     },
     "execution_count": 7,
     "metadata": {},
     "output_type": "execute_result"
    }
   ],
   "source": [
    "eq = r0 ** 2 - r0 * costhetal * 2 * (re + h) - re ** 2 + (re + h) ** 2\n",
    "eq"
   ],
   "metadata": {
    "collapsed": false
   }
  },
  {
   "cell_type": "code",
   "execution_count": 35,
   "outputs": [
    {
     "name": "stdout",
     "output_type": "stream",
     "text": [
      "\\cos{\\theta_L}*(R_e + h) - sqrt(R_e**2*\\cos{\\theta_L}**2 + 2*R_e*\\cos{\\theta_L}**2*h - 2*R_e*h + \\cos{\\theta_L}**2*h**2 - h**2)\n"
     ]
    }
   ],
   "source": [
    "aa = solve(eq, r0)[0].simplify()\n",
    "print(aa)"
   ],
   "metadata": {
    "collapsed": false
   }
  },
  {
   "cell_type": "code",
   "execution_count": 26,
   "outputs": [
    {
     "data": {
      "text/plain": "\\cos{\\theta_L}*(R_e + h) + sqrt(R_e**2*\\cos{\\theta_L}**2 + 2*R_e*\\cos{\\theta_L}**2*h - 2*R_e*h + \\cos{\\theta_L}**2*h**2 - h**2)",
      "text/latex": "$\\displaystyle \\cos{\\theta_L} \\left(R_{e} + h\\right) + \\sqrt{R_{e}^{2} \\cos{\\theta_L}^{2} + 2 R_{e} \\cos{\\theta_L}^{2} h - 2 R_{e} h + \\cos{\\theta_L}^{2} h^{2} - h^{2}}$"
     },
     "execution_count": 26,
     "metadata": {},
     "output_type": "execute_result"
    }
   ],
   "source": [
    "bb= solve(eq, r0)[1].simplify()\n",
    "bb"
   ],
   "metadata": {
    "collapsed": false
   }
  },
  {
   "cell_type": "code",
   "execution_count": 33,
   "outputs": [
    {
     "data": {
      "text/plain": "500000.000000000",
      "text/latex": "$\\displaystyle 500000.0$"
     },
     "execution_count": 33,
     "metadata": {},
     "output_type": "execute_result"
    }
   ],
   "source": [
    "aa.subs([(costhetal, 1), (re,6371e3), (h, 500e3)]).evalf()"
   ],
   "metadata": {
    "collapsed": false
   }
  },
  {
   "cell_type": "code",
   "execution_count": 27,
   "outputs": [],
   "source": [
    "\n"
   ],
   "metadata": {
    "collapsed": false
   }
  },
  {
   "cell_type": "code",
   "execution_count": 34,
   "outputs": [
    {
     "data": {
      "text/plain": "13242000.0000000",
      "text/latex": "$\\displaystyle 13242000.0$"
     },
     "execution_count": 34,
     "metadata": {},
     "output_type": "execute_result"
    }
   ],
   "source": [
    "bb.subs([(costhetal, 1), (re, 6371e3), (h, 500e3)]).evalf()"
   ],
   "metadata": {
    "collapsed": false
   }
  },
  {
   "cell_type": "code",
   "execution_count": null,
   "outputs": [],
   "source": [],
   "metadata": {
    "collapsed": false
   }
  }
 ],
 "metadata": {
  "kernelspec": {
   "display_name": "Python 3",
   "language": "python",
   "name": "python3"
  },
  "language_info": {
   "codemirror_mode": {
    "name": "ipython",
    "version": 2
   },
   "file_extension": ".py",
   "mimetype": "text/x-python",
   "name": "python",
   "nbconvert_exporter": "python",
   "pygments_lexer": "ipython2",
   "version": "2.7.6"
  }
 },
 "nbformat": 4,
 "nbformat_minor": 0
}
