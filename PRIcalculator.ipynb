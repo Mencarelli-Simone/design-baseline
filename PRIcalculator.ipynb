{
 "cells": [
  {
   "cell_type": "code",
   "execution_count": 8,
   "metadata": {
    "collapsed": true,
    "pycharm": {
     "name": "#%%\n"
    }
   },
   "outputs": [],
   "source": []
  },
  {
   "cell_type": "markdown",
   "source": [
    "## PRF initial choice\n",
    "the PRF is chosen to match the 3 dB elevation beam-width and aligned to center the swath between pulses\n",
    "1. we start finding the approximated value for the beam extremes elevation angles:\n",
    "    \\begin{equation}\n",
    "        \\begin{split}\n",
    "        \\theta_1 = \\theta - \\dfrac{\\lambda}{2 W_a}\\\\\n",
    "        \\theta_2 = \\theta + \\dfrac{\\lambda}{2 W_a}\n",
    "        \\end{split}\n",
    "    \\end{equation}\n",
    "2. we can use this approximate incidence angles to find the two slant range points.\n",
    "    This can be done with the function \"range_from_theta(theta)\" that numerically\n",
    "    inverts the slant range for an incidence angle on a point over a spherical earth.\n",
    "    we'll then have:\n",
    "    \\begin{equation}\n",
    "        \\begin{split}\n",
    "        R_1 = \\text{range_from_theta}(\\theta_1)\\\\\n",
    "        R_2 = \\text{range_from_theta}(\\theta_2)\n",
    "        \\end{split}\n",
    "    \\end{equation}\n",
    "3. The Pulse Repetition Interval ($1/\\text{PRF}$) initial value is then found to match the slant range delta roundtrip delay\n",
    "    \\begin{equation}\n",
    "        \\text{PRI} = \\dfrac{ 2 (R_2 - R_1) }{c}\n",
    "    \\end{equation}\n",
    "4. To \"center\" the pulse in the received signal, the near end slant range round trip delay must be an integer multiple of the PRI.\n",
    "    We therefore need to find the impulse order closest to the one associated to $R_1$ and recompute $R_1$, $R_2$, and PRI to the nearest *legal* value.\n",
    "    \\begin{equation}\n",
    "        n = \\text{floor}\\left(\\dfrac{2 R }{c \\text{PRI}}\\right)\n",
    "    \\end{equation}\\\n",
    "        Where R is the average slant range\n",
    "5. a new PRI is chosen to place the beam center point at the center of the scene:\n",
    "    \\begin{equation}\n",
    "        \\text{PRI}' = \\dfrac{2 R}{(n + 0.5) c}\n",
    "    \\end{equation}\n",
    "6. From the new PRI we find the corrected $R_1$, $R_2$ and slant range swath width\n",
    "       \\begin{equation}\n",
    "        \\begin{split}\n",
    "        R_1' = n \\text{PRI} c /2\\\\\n",
    "        R_2' = (n+1) \\text{PRI} c /2\\\\\n",
    "        \\end{split}\n",
    "    \\end{equation}\n",
    "7. From the corrected slant ranges we can find the ground NE and FE ranges and swath width"
   ],
   "metadata": {
    "collapsed": false,
    "pycharm": {
     "name": "#%% md\n"
    }
   }
  },
  {
   "cell_type": "code",
   "execution_count": 9,
   "outputs": [
    {
     "name": "stdout",
     "output_type": "stream",
     "text": [
      " elevation beamwidth =  5.725614191084331 deg\n",
      " theta 1 =  32.86280709554216 deg\n",
      " theta 2 =  27.13719290445783 deg\n"
     ]
    }
   ],
   "source": [
    "import numpy as np\n",
    "\n",
    "# test parameters\n",
    "theta = 30  # deg\n",
    "wa = 0.3  # m\n",
    "\n",
    "c = 299792458\n",
    "freq = 10e9\n",
    "# wavelength\n",
    "wavel = c / freq\n",
    "\n",
    "# # step 1 elevation limits\n",
    "theta1 = (theta * np.pi / 180) + wavel / (2 * wa)\n",
    "theta2 = (theta * np.pi / 180) - wavel / (2 * wa)\n",
    "\n",
    "print(\" elevation beamwidth = \", 180 / np.pi * wavel / wa, \"deg\")\n",
    "\n",
    "print(\" theta 1 = \", theta1 * 180 / np.pi, \"deg\")\n",
    "print(\" theta 2 = \", theta2 * 180 / np.pi, \"deg\")\n"
   ],
   "metadata": {
    "collapsed": false,
    "pycharm": {
     "name": "#%%\n"
    }
   }
  },
  {
   "cell_type": "code",
   "execution_count": 10,
   "outputs": [
    {
     "name": "stdout",
     "output_type": "stream",
     "text": [
      "r1 =  586479.046921434  m\n",
      "r2 =  556578.3381809548  m\n",
      "ground swath =  [59740.35029745]  m\n",
      "slant range swath =  [29900.70874048]  m\n"
     ]
    }
   ],
   "source": [
    "from design_functions import range_from_theta\n",
    "\n",
    "# # step 2 slant range limits\n",
    "r1s, r1g = range_from_theta(theta1 * 180 / np.pi)\n",
    "r2s, r2g = range_from_theta(theta2 * 180 / np.pi)\n",
    "\n",
    "# slant swath\n",
    "delta_r_s = r1s - r2s\n",
    "delta_r_g = r1g - r2g\n",
    "# ground swath\n",
    "print(\"r1 = \", r1s[0], ' m')\n",
    "print(\"r2 = \", r2s[0], ' m')\n",
    "print(\"ground swath = \", delta_r_g, ' m')\n",
    "print(\"slant range swath = \", delta_r_s, ' m')\n"
   ],
   "metadata": {
    "collapsed": false,
    "pycharm": {
     "name": "#%%\n"
    }
   }
  },
  {
   "cell_type": "code",
   "execution_count": 11,
   "outputs": [
    {
     "name": "stdout",
     "output_type": "stream",
     "text": [
      "initial PRI =  0.00019947605713602838  s\n"
     ]
    }
   ],
   "source": [
    "# # step 3 intial PRI\n",
    "PRI = float(2 * delta_r_s / c)\n",
    "print(\"initial PRI = \", PRI, \" s\")"
   ],
   "metadata": {
    "collapsed": false,
    "pycharm": {
     "name": "#%%\n"
    }
   }
  },
  {
   "cell_type": "code",
   "execution_count": 12,
   "outputs": [
    {
     "name": "stdout",
     "output_type": "stream",
     "text": [
      "average slant range =  571528.6925511945  m\n",
      "pulse order =  19.0\n"
     ]
    }
   ],
   "source": [
    "# # step 4 impulse order determination\n",
    "# average slant range\n",
    "rs = np.average((r1s, r2s))\n",
    "order = np.floor(2 * rs / (PRI * c))\n",
    "print(\"average slant range = \", rs, \" m\")\n",
    "print(\"pulse order = \", order)"
   ],
   "metadata": {
    "collapsed": false,
    "pycharm": {
     "name": "#%%\n"
    }
   }
  },
  {
   "cell_type": "code",
   "execution_count": 13,
   "outputs": [
    {
     "name": "stdout",
     "output_type": "stream",
     "text": [
      "adjusted PRI =  0.0001955296935493559  s\n"
     ]
    }
   ],
   "source": [
    "# # step 5 adjusted PRI\n",
    "PRI1 = 2 * rs / (c * (.5 + order))\n",
    "print(\"adjusted PRI = \", PRI1, \" s\")"
   ],
   "metadata": {
    "collapsed": false,
    "pycharm": {
     "name": "#%%\n"
    }
   }
  },
  {
   "cell_type": "code",
   "execution_count": 14,
   "outputs": [
    {
     "name": "stdout",
     "output_type": "stream",
     "text": [
      "corrected slant range swath =  29309.163720574114  m\n"
     ]
    }
   ],
   "source": [
    "# # step 6 adjusted near end and far end range and swath\n",
    "r2s1 = order * c * PRI1 / 2\n",
    "r1s1 = (order + 1) * c * PRI1 / 2\n",
    "# slant range delta\n",
    "delta_r_s_1 = r1s1 - r2s1\n",
    "print(\"corrected slant range swath = \", delta_r_s_1, \" m\")"
   ],
   "metadata": {
    "collapsed": false,
    "pycharm": {
     "name": "#%%\n"
    }
   }
  },
  {
   "cell_type": "code",
   "execution_count": 15,
   "outputs": [
    {
     "name": "stdout",
     "output_type": "stream",
     "text": [
      "corrected ground swath =  58547.18012095246  m\n",
      "corrected theta1 =  32.81311892660367  deg\n",
      "corrected theta2 =  27.20232409144744  deg\n"
     ]
    }
   ],
   "source": [
    "from design_functions import range_slant_to_ground\n",
    "\n",
    "# # step 7 adjusted ground ranges\n",
    "r1g1, theta1 = range_slant_to_ground(r1s1)\n",
    "r2g1, theta2 = range_slant_to_ground(r2s1)\n",
    "rg1 = r1g1 - r2g1\n",
    "print(\"corrected ground swath = \", rg1, \" m\")\n",
    "print(\"corrected theta1 = \", 180 / np.pi * theta1, \" deg\")\n",
    "print(\"corrected theta2 = \", 180 / np.pi * theta2, \" deg\")"
   ],
   "metadata": {
    "collapsed": false,
    "pycharm": {
     "name": "#%%\n"
    }
   }
  },
  {
   "cell_type": "markdown",
   "source": [
    "## in a concise function:"
   ],
   "metadata": {
    "collapsed": false,
    "pycharm": {
     "name": "#%% md\n"
    }
   }
  },
  {
   "cell_type": "code",
   "execution_count": 16,
   "outputs": [
    {
     "name": "stdout",
     "output_type": "stream",
     "text": [
      "corrected PRI =  0.0001955296935493559\n",
      "corrected PRF =  5114.312725844776\n",
      "corrected ground swath =  58547.18012095246\n"
     ]
    }
   ],
   "source": [
    "from design_functions import pri_max_swath\n",
    "\n",
    "PRI_1, ground_swath = pri_max_swath(theta, wa, freq=freq)\n",
    "print(\"corrected PRI = \", PRI_1)\n",
    "print(\"corrected PRF = \", 1 / PRI_1)\n",
    "print(\"corrected ground swath = \", ground_swath)"
   ],
   "metadata": {
    "collapsed": false,
    "pycharm": {
     "name": "#%%\n"
    }
   }
  }
 ],
 "metadata": {
  "kernelspec": {
   "display_name": "Python 3",
   "language": "python",
   "name": "python3"
  },
  "language_info": {
   "codemirror_mode": {
    "name": "ipython",
    "version": 2
   },
   "file_extension": ".py",
   "mimetype": "text/x-python",
   "name": "python",
   "nbconvert_exporter": "python",
   "pygments_lexer": "ipython2",
   "version": "2.7.6"
  }
 },
 "nbformat": 4,
 "nbformat_minor": 0
}