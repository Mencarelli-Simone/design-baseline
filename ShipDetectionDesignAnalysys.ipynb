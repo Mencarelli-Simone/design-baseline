{
 "cells": [
  {
   "cell_type": "markdown",
   "metadata": {},
   "source": []
  },
  {
   "cell_type": "code",
   "execution_count": 1,
   "metadata": {},
   "outputs": [],
   "source": [
    "# dependencies\n",
    "import numpy as np\n",
    "import matplotlib.pyplot as plt\n",
    "import matplotlib\n",
    "from tqdm import tqdm\n",
    "from timing_diagram import time_diagram_plotter\n",
    "from ShipDetectionSystemDesign import *\n",
    "from spherical_earth_geometry_radar import *\n",
    "from design_functions import *\n",
    "from ambiguity_functions import *\n",
    "from matplotlib import cm\n",
    "\n",
    "matplotlib.use('Qt5Agg')\n",
    "#%matplotlib widget\n",
    "#%matplotlib notebook\n",
    "%matplotlib qt"
   ]
  },
  {
   "cell_type": "markdown",
   "metadata": {},
   "source": [
    "# System design Assumptions\n",
    "- small antenna area 0.3 m x 2 m\n",
    "- Low Peak Power ~ 200 W i.e. 1/6 Synspective\n",
    "- High Duty cycle (to compensate for the low peak power) ~ 25%\n",
    "- Losses + Noise Figure = 10dB (conservative)\n",
    "- Resolution Area < 2m^2 (like terraSar spotlight)\n",
    "- Pfa <= 10^-6 i.e. less than 1 fa for NZ EEZ\n",
    "- 30 m x 7 m vessels to be detected\n",
    "- LEO = 500 km\n"
   ]
  },
  {
   "cell_type": "code",
   "execution_count": 2,
   "metadata": {},
   "outputs": [
    {
     "name": "stdout",
     "output_type": "stream",
     "text": [
      "P_avg:  50.0\n"
     ]
    }
   ],
   "source": [
    "# antenna\n",
    "la = 2  # m\n",
    "wa = .3  # m\n",
    "# losses + Nf\n",
    "losses = 10  # dB\n",
    "# orbit\n",
    "h = 500e3  # m\n",
    "# resolution area\n",
    "ares = 2  # m2\n",
    "# duty cycle\n",
    "dutycycle = 0.25\n",
    "# power\n",
    "P_peak = 200  # W\n",
    "pavg = dutycycle * P_peak  # W\n",
    "# frequency\n",
    "freq = 10e9\n",
    "# wavelength\n",
    "wavel = 299792458.0 / freq\n",
    "# speed of light\n",
    "c = 299792458.0\n",
    "\n",
    "print('P_avg: ', pavg)"
   ]
  },
  {
   "cell_type": "code",
   "execution_count": 3,
   "metadata": {},
   "outputs": [],
   "source": [
    "# probability of detection and false alarm\n",
    "# expected value and variance for MEDIUM ships (150m>L>25m) \n",
    "#(from Table 1 in DLR paper) better performance are expected \n",
    "# given the higher resolution\n",
    "# related to the intensity log normal distribution of ships\n",
    "expected = - 0.002\n",
    "variance = 4.66\n",
    "\n",
    "# for small ships with ares , 2m2\n",
    "# expected = - 0.928\n",
    "# variance = 3.796\n",
    "\n",
    "# 30 m x 7 m vessels\n",
    "A_ship = 30 * 7\n",
    "\n",
    "#Pfa = 1 * A_ship / 10 ** 7\n",
    "Pfa = 10e-6\n",
    "\n",
    "# minimum probability of detection\n",
    "pd_min = 0.5\n"
   ]
  },
  {
   "cell_type": "markdown",
   "metadata": {},
   "source": [
    "# II Analysis\n",
    "sweep over a set of looking angle"
   ]
  },
  {
   "cell_type": "code",
   "execution_count": 4,
   "outputs": [],
   "source": [
    "# print(theta_mean)"
   ],
   "metadata": {
    "collapsed": false
   }
  },
  {
   "cell_type": "code",
   "execution_count": 5,
   "metadata": {},
   "outputs": [
    {
     "name": "stderr",
     "output_type": "stream",
     "text": [
      "100%|██████████| 5/5 [00:13<00:00,  2.63s/it]\n",
      "100%|██████████| 2/2 [00:02<00:00,  1.30s/it]\n"
     ]
    }
   ],
   "source": [
    "out_dict_list = []\n",
    "in_dict_list = []\n",
    "theta_mean = np.array([25, 30, 35, 45, 60])\n",
    "theta_mean1 = np.array([25, 35])\n",
    "\n",
    "for theta in tqdm(theta_mean):\n",
    "    out_dict, in_dict = shipDetectionSystemDesigner(theta, la, wa, ares, h, freq, P_peak, dutycycle, losses, Pfa,\n",
    "                                                    A_ship, expected, variance, pd_min)\n",
    "    in_dict_list.append(in_dict)\n",
    "    out_dict_list.append(out_dict)\n",
    "# reduced swath design\n",
    "for theta in tqdm(theta_mean1):\n",
    "    out_dict, in_dict = shipDetectionSystemDesigner(theta, la, wa, ares, h, freq, P_peak, dutycycle, losses, Pfa,\n",
    "                                                    A_ship, expected, variance, pd_min,\n",
    "                                                    reducedSwath=True, swathnominalfraction=0.7)\n",
    "    in_dict_list.append(in_dict)\n",
    "    out_dict_list.append(out_dict)\n"
   ]
  },
  {
   "cell_type": "markdown",
   "metadata": {},
   "source": []
  },
  {
   "cell_type": "markdown",
   "metadata": {},
   "source": [
    "# III Performance Evaluation - discussion\n",
    "For every design, print/plot:\n",
    "-\tThe Probability of detection over swath for different looking angles (plot)\n",
    "-\tNESZ min\n",
    "-\tThe Range Ambiguity to signal Ratio over swath (plot or maximum value)\n",
    "-\tThe Azimuth Ambiguity to Signal Ratio\n",
    "-\tThe Required pulse bandwidth\n",
    "-\tThe PRF\n",
    "-\tThe swath width that effectively has a Pd higher than 0.5\n",
    "-\tWhether the swath is nominal or larger (3dB beam)\n",
    "-\tThe timing Diagram (Plot)\n"
   ]
  },
  {
   "cell_type": "markdown",
   "metadata": {},
   "source": [
    "## Plots"
   ]
  },
  {
   "cell_type": "code",
   "execution_count": 6,
   "metadata": {},
   "outputs": [],
   "source": [
    "# for the plots: to be filled for every initial looking angle\n",
    "# a list of broadside incidence angles for the legend\n",
    "broadside_incidence_list = []\n",
    "# a list of usable ground range axes\n",
    "ground_range_axis_list = []\n",
    "# a list of usable swath incidence angle axes\n",
    "incidence_axis_list = []\n",
    "# a list of probability of detection curves\n",
    "pd_list = []\n",
    "# a list of NESZ curves\n",
    "nesz_list = []\n",
    "# a list of RASR curves\n",
    "rasr_list = []\n",
    "# a list of AASR points\n",
    "aasr_list = []\n",
    "# undersampling ratios\n",
    "undersampling_list = []\n",
    "# a list of minimum probabilities of detection lines\n",
    "pd_min_line_inc_list = []"
   ]
  },
  {
   "cell_type": "markdown",
   "metadata": {},
   "source": []
  },
  {
   "cell_type": "code",
   "execution_count": 7,
   "metadata": {},
   "outputs": [
    {
     "name": "stderr",
     "output_type": "stream",
     "text": [
      "  0%|          | 0/7 [00:00<?, ?it/s]C:\\Users\\smen851\\PycharmProjects\\design-baseline\\spherical_earth_geometry_radar.py:287: RuntimeWarning: invalid value encountered in sqrt\n",
      "  arg = ((lambda_c ** 2 * doppler_mesh ** 2 + np.sqrt(\n",
      "100%|██████████| 7/7 [01:21<00:00, 11.68s/it]\n"
     ]
    }
   ],
   "source": [
    "# filling the lists\n",
    "points = 111  # number of points per plot\n",
    "for out_dict in tqdm(out_dict_list):\n",
    "    # broadside incidence\n",
    "    broadside_incidence = out_dict['broadside_incidence']\n",
    "    broadside_incidence_list.append(broadside_incidence)\n",
    "\n",
    "    # incidence axis\n",
    "    iminmax = out_dict['usable_inc_swath']\n",
    "    incidence = np.linspace(iminmax[0], iminmax[1], points)\n",
    "    incidence_axis_list.append(incidence)\n",
    "\n",
    "    # ground range axis ( from incidence )\n",
    "    slant_range, ground_range = range_from_theta(incidence * 180 / np.pi, h)\n",
    "    ground_range_axis_list.append(ground_range)\n",
    "\n",
    "    # NESZ curve\n",
    "    radGeo = out_dict['radarGeo']\n",
    "    uniap = out_dict['uniAp']\n",
    "    v_s = radGeo.abs_v\n",
    "    snr_core, daz = core_snr_spherical(radGeo, uniap, incidence, wavel, v_s, h)\n",
    "    B = out_dict['bandwidth']\n",
    "    Ta = 300  # kelvin (antenna temperature)\n",
    "    nesz = 10 ** (losses / 10) * Ta * B / (snr_core * pavg)\n",
    "    nesz_list.append(nesz)\n",
    "\n",
    "    # probability of detection curve\n",
    "    P_d = pd(radGeo, uniap, incidence, wavel, losses, B, pavg, Pfa, A_ship, expected, variance)\n",
    "    pd_list.append(P_d)\n",
    "\n",
    "    # RASR curve\n",
    "    #  Doppler Bandwidth\n",
    "    Bd = nominal_doppler_bandwidth(uniap.L, broadside_incidence, wavel, v_s, h)\n",
    "    PRI_2 = out_dict['PRI_2']\n",
    "    rasr = RASR(radGeo, uniap, incidence, PRI_2, Bd, wavel, v_s, pbaroff=True)\n",
    "    rasr_list.append(rasr)\n",
    "\n",
    "    # undersampling ratio\n",
    "    undersampling_list.append(Bd * PRI_2)\n",
    "\n",
    "    # minimum probabilities of detection line\n",
    "    pd_min_inc = out_dict['pd_inc_swath']\n",
    "    pd_min_line_inc_list.append(pd_min_inc)\n",
    "\n",
    "    # AASR points\n",
    "    aasr = AASR(radGeo, uniap, np.average(iminmax) * 180 / np.pi, 1 / PRI_2, Bd, wavel, pbaroff=True)\n",
    "    aasr_list.append(aasr)\n"
   ]
  },
  {
   "cell_type": "code",
   "execution_count": 8,
   "metadata": {},
   "outputs": [],
   "source": [
    "# plotting the stuff"
   ]
  },
  {
   "cell_type": "code",
   "execution_count": 8,
   "metadata": {},
   "outputs": [],
   "source": []
  },
  {
   "cell_type": "code",
   "execution_count": 9,
   "metadata": {},
   "outputs": [],
   "source": [
    "# pd plot\n",
    "fig, ax = plt.subplots(1)\n",
    "for ii in range(len(incidence_axis_list)):\n",
    "    ax.plot(incidence_axis_list[ii] * 180 / np.pi, pd_list[ii], color=cm.get_cmap('tab10').colors[ii % 10])\n",
    "    # min pd line\n",
    "    inc_pd_min = pd_min_line_inc_list[ii]\n",
    "    ax.plot(inc_pd_min * 180 / np.pi, out_dict_list[ii]['pd_min'],\n",
    "            color=cm.get_cmap('tab10').colors[ii % 10],\n",
    "            label=str(round(broadside_incidence_list[ii][0] * 180 / np.pi, 1)))\n",
    "\n",
    "ax.set_xlabel('Incidence angle deg')\n",
    "ax.set_ylabel('Probability of Detection')\n",
    "ax.grid()\n",
    "ax.legend(loc='center right', bbox_to_anchor=(1.11, 0.5))\n",
    "plt.show()"
   ]
  },
  {
   "cell_type": "code",
   "execution_count": 10,
   "metadata": {},
   "outputs": [],
   "source": [
    "# pd plot on ground range\n",
    "import matplotlib.pyplot as plt\n",
    "\n",
    "plt.rcParams[\"font.family\"] = \"Times New Roman\"\n",
    "plt.rcParams['svg.fonttype'] = 'none'\n",
    "fig, ax = plt.subplots(1)\n",
    "fig.set_size_inches(3.6, 2.5, forward=True)\n",
    "for ii in range(len(incidence_axis_list)):\n",
    "    ax.plot(ground_range_axis_list[ii] / 1000, pd_list[ii], color=cm.get_cmap('tab10').colors[ii % 10])\n",
    "    # min pd line\n",
    "    inc_pd_min = pd_min_line_inc_list[ii]\n",
    "    ax.plot(out_dict_list[ii]['pd_ground_swath'] / 1000, out_dict_list[ii]['pd_min'],\n",
    "            color=cm.get_cmap('tab10').colors[ii % 10],\n",
    "            label='$\\eta_i=$' + str(round(broadside_incidence_list[ii][0] * 180 / np.pi, 1)))\n",
    "\n",
    "ax.set_xlabel('Ground Range [km]')\n",
    "ax.set_ylabel('Probability of Detection')\n",
    "ax.grid()\n",
    "ax.legend(loc='center right', bbox_to_anchor=(1.11, 0.5))\n",
    "plt.show()\n",
    "plt.savefig('.\\\\fig.svg')\n",
    "plt.close('all')"
   ]
  },
  {
   "cell_type": "code",
   "execution_count": 11,
   "metadata": {},
   "outputs": [
    {
     "data": {
      "text/plain": "<matplotlib.legend.Legend at 0x1f370037880>"
     },
     "execution_count": 11,
     "metadata": {},
     "output_type": "execute_result"
    }
   ],
   "source": [
    "# nesz plot on ground range\n",
    "fig, ax = plt.subplots(1)\n",
    "for ii in range(len(incidence_axis_list)):\n",
    "    ax.plot(ground_range_axis_list[ii] / 1000, 10 * np.log10(nesz_list[ii]),\n",
    "            color=cm.get_cmap('tab10').colors[ii % 10],\n",
    "            label=str(round(broadside_incidence_list[ii][0] * 180 / np.pi, 1)))\n",
    "\n",
    "ax.set_xlabel('Ground Range [km]')\n",
    "ax.set_ylabel('NESZ [dB]')\n",
    "ax.grid()\n",
    "ax.legend(loc='center right', bbox_to_anchor=(1.11, 0.5))\n",
    "\n"
   ]
  },
  {
   "cell_type": "code",
   "execution_count": 12,
   "metadata": {},
   "outputs": [
    {
     "data": {
      "text/plain": "<matplotlib.legend.Legend at 0x1f36fe49ca0>"
     },
     "execution_count": 12,
     "metadata": {},
     "output_type": "execute_result"
    }
   ],
   "source": [
    "# RASR plot on ground range\n",
    "fig, ax = plt.subplots(1)\n",
    "for ii in range(len(incidence_axis_list)):\n",
    "    ax.plot(ground_range_axis_list[ii] / 1000, 10 * np.log10(rasr_list[ii]),\n",
    "            color=cm.get_cmap('tab10').colors[ii % 10],\n",
    "            label=str(round(broadside_incidence_list[ii][0] * 180 / np.pi, 1)))\n",
    "\n",
    "ax.set_xlabel('Ground Range [km]')\n",
    "ax.set_ylabel('RASR [dB]')\n",
    "ax.grid()\n",
    "ax.legend(loc='center right', bbox_to_anchor=(1.11, 0.5))"
   ]
  },
  {
   "cell_type": "code",
   "execution_count": 13,
   "outputs": [
    {
     "name": "stdout",
     "output_type": "stream",
     "text": [
      "(111,)\n",
      "(111,)\n",
      "(111,)\n",
      "(111,)\n",
      "(111,)\n",
      "(111,)\n",
      "(111,)\n",
      "(111,)\n",
      "(111,)\n",
      "(111,)\n",
      "(111,)\n",
      "(111,)\n",
      "(111,)\n",
      "(111,)\n",
      "[-32.39266435 -18.73119058 -19.60943316 -26.82101862 -26.45712888\n",
      " -22.93750947 -19.44666469]\n"
     ]
    }
   ],
   "source": [
    "# RASRMAX\n",
    "rasrmax = []\n",
    "for ii in range(len(incidence_axis_list)):\n",
    "    pd_swath = out_dict_list[ii]['pd_ground_swath']\n",
    "    grax = ground_range_axis_list[ii]\n",
    "    ras =rasr_list[ii]\n",
    "    print(ras.shape)\n",
    "    print(grax.shape)\n",
    "    rasrr = np.where(float(pd_swath[1]) > grax ,\n",
    "                     ras, 0)\n",
    "    rasrr = np.where(grax > float(pd_swath[0]),\n",
    "                     rasrr, 0)\n",
    "    rasrmax.append(rasrr.max())\n",
    "print(10*np.log10(rasrmax))"
   ],
   "metadata": {
    "collapsed": false
   }
  },
  {
   "cell_type": "markdown",
   "metadata": {},
   "source": [
    "## Timing diagram"
   ]
  },
  {
   "cell_type": "code",
   "execution_count": 14,
   "metadata": {},
   "outputs": [
    {
     "name": "stderr",
     "output_type": "stream",
     "text": [
      "C:\\Users\\smen851\\PycharmProjects\\design-baseline\\design_functions.py:42: RuntimeWarning: invalid value encountered in arccos\n",
      "  beta = arccos(((re + h) ** 2 - re ** 2 + rs ** 2) / (2 * (re + h) * rs))\n",
      "C:\\Users\\smen851\\PycharmProjects\\design-baseline\\design_functions.py:43: RuntimeWarning: invalid value encountered in arccos\n",
      "  alpha = arccos(((re + h) ** 2 + re ** 2 - rs ** 2) / (2 * (re + h) * re))\n"
     ]
    }
   ],
   "source": [
    "# timing diagram\n",
    "plt.rcParams['svg.fonttype'] = 'none'\n",
    "prf = np.linspace(250, 6000, 200)\n",
    "# plotting\n",
    "fig, ax = plt.subplots(1)\n",
    "fig.set_size_inches(3.3, 2.5, forward=True)\n",
    "time_diagram_plotter(ax, prf, dutycycle, h, integrationtime=False)\n",
    "ax.set_xlabel('PRF [Hz]')\n",
    "ax.set_ylabel(' Ground range [km]')\n",
    "ax.set_ylim(50, 800)\n",
    "ax.set_xlim(250, 6000)\n",
    "\n",
    "# design points\n",
    "for ii in range(len(incidence_axis_list)):\n",
    "    swath_g = out_dict_list[ii]['ground_swath']\n",
    "    PRI_2 = out_dict_list[ii]['PRI_2']\n",
    "    #print(swath_g)\n",
    "\n",
    "    pd_swath = out_dict_list[ii]['pd_ground_swath']\n",
    "    #print(pd_swath)\n",
    "    prff = np.abs(np.ones_like(swath_g) / PRI_2)\n",
    "    ax.plot(prff, swath_g / 1000,\n",
    "            color=cm.get_cmap('tab10').colors[ii % 10], linewidth=1.2,\n",
    "            label=str(round(broadside_incidence_list[ii][0] * 180 / np.pi, 1)))\n",
    "    ax.scatter(prff, pd_swath / 1000, marker='+', color=cm.get_cmap('tab10').colors[ii % 10])\n",
    "#ax.legend(loc='center right', bbox_to_anchor=(1.11, 0.5))\n",
    "plt.savefig('.\\\\tdfig.svg')\n",
    "plt.show()\n",
    "#plt.close('all')"
   ]
  },
  {
   "cell_type": "code",
   "execution_count": 15,
   "metadata": {},
   "outputs": [
    {
     "data": {
      "text/plain": "array([300328.07548917, 361146.36183039])"
     },
     "execution_count": 15,
     "metadata": {},
     "output_type": "execute_result"
    }
   ],
   "source": [
    "out_dict_list[1]['pd_ground_swath']"
   ]
  },
  {
   "cell_type": "code",
   "execution_count": 15,
   "metadata": {},
   "outputs": [],
   "source": []
  },
  {
   "cell_type": "markdown",
   "metadata": {},
   "source": [
    "## Table\n",
    "AASR"
   ]
  },
  {
   "cell_type": "code",
   "execution_count": 15,
   "metadata": {},
   "outputs": [],
   "source": []
  },
  {
   "cell_type": "code",
   "execution_count": 16,
   "metadata": {},
   "outputs": [
    {
     "name": "stdout",
     "output_type": "stream",
     "text": [
      "eta  \t pd_min swath \t AASR \t\t bandwidth \t Bd/PRF \t rasrmax\n",
      "17.85 \t 56.77 km \t 2.31 dB \t 245.33 MHz \t 2.54 \t -32.39\n",
      "36.03 \t 60.82 km \t 4.46 dB \t 127.73 MHz \t 3.63 \t -18.73\n",
      "38.47 \t 67.08 km \t 4.22 dB \t 120.77 MHz \t 4.23 \t -19.61\n",
      "45.35 \t 78.3 km \t 6.74 dB \t 105.59 MHz \t 6.35 \t -26.82\n",
      "58.25 \t 81.37 km \t 12.64 dB \t 88.32 MHz \t 12.7 \t -26.46\n",
      "25.61 \t 38.65 km \t 1.85 dB \t 173.9 MHz \t 1.69 \t -22.94\n",
      "30.81 \t 48.91 km \t 3.4 dB \t 146.72 MHz \t 2.54 \t -19.45\n"
     ]
    }
   ],
   "source": [
    "print('eta ', '\\t pd_min swath', '\\t AASR', '\\t\\t bandwidth', '\\t Bd/PRF','\\t rasrmax')\n",
    "for ii in range(len(out_dict_list)):\n",
    "    dict = out_dict_list[ii]\n",
    "    a = aasr_list[ii][0]\n",
    "    uu = undersampling_list[ii][0]\n",
    "    swath = dict['pd_ground_swath']\n",
    "    angle = dict['broadside_incidence'] * 180 / np.pi\n",
    "    print(round(angle[0], 2), '\\t',\n",
    "          round((swath[1] - swath[0]) / 1000, 2), 'km', '\\t', round(a, 2), 'dB',\n",
    "          '\\t', round(dict['bandwidth'] / 1e6, 2), 'MHz', '\\t', round(uu, 2),'\\t', round(10*np.log10(rasrmax[ii]),2))"
   ]
  },
  {
   "cell_type": "markdown",
   "source": [
    "## Scatterplots"
   ],
   "metadata": {
    "collapsed": false
   }
  },
  {
   "cell_type": "code",
   "execution_count": 17,
   "metadata": {},
   "outputs": [],
   "source": [
    "plt.show()"
   ]
  },
  {
   "cell_type": "code",
   "execution_count": 17,
   "metadata": {},
   "outputs": [],
   "source": []
  },
  {
   "cell_type": "code",
   "execution_count": 17,
   "outputs": [],
   "source": [],
   "metadata": {
    "collapsed": false
   }
  }
 ],
 "metadata": {
  "kernelspec": {
   "display_name": "Python 3 (ipykernel)",
   "language": "python",
   "name": "python3"
  },
  "language_info": {
   "codemirror_mode": {
    "name": "ipython",
    "version": 3
   },
   "file_extension": ".py",
   "mimetype": "text/x-python",
   "name": "python",
   "nbconvert_exporter": "python",
   "pygments_lexer": "ipython3",
   "version": "3.9.5"
  }
 },
 "nbformat": 4,
 "nbformat_minor": 1
}
