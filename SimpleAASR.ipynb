{
 "cells": [
  {
   "cell_type": "markdown",
   "source": [
    "# AASR\n",
    "from curlander\n",
    "\\begin{equation}\n",
    "    \\text{AASR} \\approx \\dfrac{\\sum_{m\\neq 0}{\\int_{B_d}{G^2(f + m \\text{PRF})\\ df}}}{\\int_{B_d}{G^2(f)\\ df}}\n",
    "\\end{equation}"
   ],
   "metadata": {
    "collapsed": false
   }
  },
  {
   "cell_type": "markdown",
   "source": [
    "\n",
    "\n",
    "given a incidence angle (constant)\n",
    "for an element in the sum\n",
    "1. find doppler axis\n",
    "2. find azimuth using mesh_doppler_to_azimuth(theta_mesh, doppler_mesh, lambda_c, v_s, h=500e3, re=6371e3, c=299792458.0)\n",
    "3. convert azimuth, incidence angle to GCS\n",
    "4. GCS to LCS\n",
    "5. LCS to spherical\n",
    "6. spherical coordinate phi approximated to 0 or pi\n",
    "7. gain retrieved\n"
   ],
   "metadata": {
    "collapsed": false
   }
  },
  {
   "cell_type": "code",
   "execution_count": 1,
   "outputs": [],
   "source": [
    "import numpy as np\n",
    "from numpy import sin, cos, arccos, arcsin\n",
    "from spherical_earth_geometry_radar import *\n",
    "\n",
    "la = 2\n",
    "wa = .3\n",
    "freq = 10e9\n",
    "c = 299792458.0\n",
    "lambda_c = c / freq\n",
    "\n",
    "h = 500e3\n",
    "\n",
    "incidence_angle = 0.53437381 * 180 / np.pi\n",
    "\n",
    "looking_angle = incidence_angle_to_looking_angle(incidence_angle * np.pi / 180, h)\n",
    "\n",
    "PRF = 5096.471786\n",
    "\n",
    "# processed doppler bandwidth\n",
    "Bd = 7613.30793042\n"
   ],
   "metadata": {
    "collapsed": false
   }
  },
  {
   "cell_type": "code",
   "execution_count": 2,
   "outputs": [
    {
     "data": {
      "text/plain": "28.179832174123597"
     },
     "execution_count": 2,
     "metadata": {},
     "output_type": "execute_result"
    }
   ],
   "source": [
    "looking_angle * 180 / np.pi"
   ],
   "metadata": {
    "collapsed": false
   }
  },
  {
   "cell_type": "markdown",
   "source": [],
   "metadata": {
    "collapsed": false
   }
  },
  {
   "cell_type": "code",
   "execution_count": 3,
   "outputs": [
    {
     "data": {
      "text/plain": "array([[7612.68398988],\n       [   0.        ],\n       [   0.        ]])"
     },
     "execution_count": 3,
     "metadata": {},
     "output_type": "execute_result"
    }
   ],
   "source": [
    "from spherical_earth_geometry_radar import *\n",
    "from radartools.farField import UniformAperture\n",
    "\n",
    "uniap = UniformAperture(la, wa, freq)\n",
    "radGeo = RadarGeometry()\n",
    "radGeo.set_initial_position(0, 0, h)\n",
    "radGeo.set_rotation(looking_angle, 0, 0)\n",
    "v_s = radGeo.orbital_speed()\n",
    "radGeo.set_speed(v_s)\n"
   ],
   "metadata": {
    "collapsed": false
   }
  },
  {
   "cell_type": "markdown",
   "source": [
    "## step 1: Find doppler extremes\n"
   ],
   "metadata": {
    "collapsed": false
   }
  },
  {
   "cell_type": "code",
   "execution_count": 4,
   "outputs": [
    {
     "name": "stdout",
     "output_type": "stream",
     "text": [
      "22.120887205333716\n"
     ]
    },
    {
     "data": {
      "text/plain": "0.9263914165634303"
     },
     "execution_count": 4,
     "metadata": {},
     "output_type": "execute_result"
    }
   ],
   "source": [
    "from design_functions import *\n",
    "\n",
    "# azimuth circle radius\n",
    "re = 6371e3\n",
    "r0, rg = range_from_theta(incidence_angle, h)\n",
    "costheta_e = ((re + h) ** 2 + re ** 2 - r0 ** 2) / (2 * (re + h) * re)\n",
    "\n",
    "raz = re * costheta_e\n",
    "d = r0 * cos(looking_angle)\n",
    "# projected maximum slant range\n",
    "l = np.sqrt((d + raz) ** 2 - raz ** 2)\n",
    "\n",
    "# maximum azimuthal angle\n",
    "costheta_a = (raz ** 2 + (raz + d) ** 2 - l ** 2) / (2 * raz * (raz + d))\n",
    "theta_a = arccos(costheta_a)\n",
    "print(180 * theta_a / np.pi)\n",
    "costheta_a"
   ],
   "metadata": {
    "collapsed": false
   }
  },
  {
   "cell_type": "code",
   "execution_count": 5,
   "outputs": [
    {
     "name": "stdout",
     "output_type": "stream",
     "text": [
      "67.87911279466628\n"
     ]
    }
   ],
   "source": [
    "cos_phimax = (-raz ** 2 + (raz + d) ** 2 + l ** 2) / (2 * l * (raz + d))\n",
    "phimax = arccos(cos_phimax)\n",
    "print(180 * phimax / np.pi)"
   ],
   "metadata": {
    "collapsed": false
   }
  },
  {
   "cell_type": "code",
   "execution_count": 6,
   "outputs": [
    {
     "name": "stdout",
     "output_type": "stream",
     "text": [
      "[467921.59143886]\n"
     ]
    }
   ],
   "source": [
    "# then the max doppler shift is:\n",
    "A = (re + h) ** 2 + re ** 2\n",
    "B = 2 * (re + h) * re * costheta_e\n",
    "v = v_s / (re + h)\n",
    "\n",
    "doppler_max = (B * v * sin(theta_a) / (lambda_c * np.sqrt(A - B * cos(theta_a))))\n",
    "print(doppler_max)"
   ],
   "metadata": {
    "collapsed": false
   }
  },
  {
   "cell_type": "code",
   "execution_count": 7,
   "outputs": [
    {
     "data": {
      "text/plain": "array([91.])"
     },
     "execution_count": 7,
     "metadata": {},
     "output_type": "execute_result"
    }
   ],
   "source": [
    "# this maximum doppler corresponds to a sum order of\n",
    "n = np.floor(doppler_max / PRF)\n",
    "n"
   ],
   "metadata": {
    "collapsed": false
   }
  },
  {
   "cell_type": "markdown",
   "source": [
    "Doppler axes"
   ],
   "metadata": {
    "collapsed": false
   }
  },
  {
   "cell_type": "code",
   "execution_count": 8,
   "outputs": [
    {
     "name": "stdout",
     "output_type": "stream",
     "text": [
      "(101,)\n"
     ]
    }
   ],
   "source": [
    "dop_ax = np.linspace(-Bd / 2, Bd / 2, 101)\n",
    "print(dop_ax.shape)"
   ],
   "metadata": {
    "collapsed": false
   }
  },
  {
   "cell_type": "markdown",
   "source": [],
   "metadata": {
    "collapsed": false
   }
  },
  {
   "cell_type": "markdown",
   "source": [
    "given a incidence angle (constant)\n",
    "for an element in the sum\n",
    "1. find doppler axis\n",
    "2. find azimuth using mesh_doppler_to_azimuth(theta_mesh, doppler_mesh, lambda_c, v_s, h=500e3, re=6371e3, c=299792458.0)\n",
    "3. convert azimuth, incidence angle to GCS\n",
    "4. GCS to LCS\n",
    "5. LCS to spherical\n",
    "6. spherical coordinate phi approximated to 0 or pi\n",
    "7. gain retrieved"
   ],
   "metadata": {
    "collapsed": false
   }
  },
  {
   "cell_type": "code",
   "execution_count": 8,
   "outputs": [],
   "source": [],
   "metadata": {
    "collapsed": false
   }
  },
  {
   "cell_type": "code",
   "execution_count": 9,
   "outputs": [
    {
     "name": "stdout",
     "output_type": "stream",
     "text": [
      "(1, 101)\n"
     ]
    }
   ],
   "source": [
    "\n",
    "# follow the steps from above\n",
    "# doppler incidence angle\n",
    "D, I = np.meshgrid(dop_ax, incidence_angle * np.pi / 180)\n",
    "print(D.shape)\n",
    "# Incidence azimuth position stationary slow time\n",
    "I, A, Tk = mesh_doppler_to_azimuth(I, D, lambda_c, v_s, h)\n",
    "# gcs coordinate\n",
    "X, Y, Z = mesh_incidence_azimuth_to_gcs(I, A, lambda_c, v_s, h)\n",
    "# lcs coordinate\n",
    "Xl, Yl, Zl = mesh_gcs_to_lcs(X, Y, Z, radGeo.Bc2s, radGeo.S_0)\n",
    "# lcs spherical coordinates\n",
    "R, T, P = meshCart2sph(Xl, Yl, Zl)"
   ],
   "metadata": {
    "collapsed": false
   }
  },
  {
   "cell_type": "code",
   "execution_count": 10,
   "outputs": [
    {
     "data": {
      "text/plain": "[<matplotlib.lines.Line2D at 0x1a7ed0c3580>]"
     },
     "execution_count": 10,
     "metadata": {},
     "output_type": "execute_result"
    },
    {
     "data": {
      "text/plain": "<Figure size 640x480 with 1 Axes>",
      "image/png": "[encoded data removed]"
     },
     "metadata": {},
     "output_type": "display_data"
    }
   ],
   "source": [
    "import matplotlib.pyplot as plt\n",
    "\n",
    "fig, ax = plt.subplots(1)\n",
    "ax.plot(P[0][0:100] * 180 / np.pi)"
   ],
   "metadata": {
    "collapsed": false
   }
  },
  {
   "cell_type": "code",
   "execution_count": 11,
   "outputs": [
    {
     "name": "stdout",
     "output_type": "stream",
     "text": [
      "(1, 101)\n",
      "(1, 101)\n"
     ]
    }
   ],
   "source": [
    "# allign Phi coordinate to closest 0 , 180 value\n",
    "#print(P)\n",
    "P = np.round(P / np.pi) * np.pi\n",
    "P = np.where(P == 0, 2 * np.pi, P)\n",
    "print(P.shape)\n",
    "print(T.shape)"
   ],
   "metadata": {
    "collapsed": false
   }
  },
  {
   "cell_type": "code",
   "execution_count": 12,
   "outputs": [
    {
     "name": "stdout",
     "output_type": "stream",
     "text": [
      "(1, 101)\n",
      "(1, 101)\n"
     ]
    },
    {
     "name": "stderr",
     "output_type": "stream",
     "text": [
      "C:\\Users\\smen851\\PycharmProjects\\design-baseline\\radartools\\farField.py:149: RuntimeWarning: invalid value encountered in divide\n",
      "  f = sin(kx * self.L / 2) / (kx * self.L / 2) * sin(ky * self.W / 2) / (ky * self.W / 2) * self.L * self.W\n"
     ]
    }
   ],
   "source": [
    "#Retrieve gain at theta, phi coordinate\n",
    "G = uniap.mesh_gain_pattern_theor(T, P)\n",
    "print(G.shape)\n",
    "G = np.where(np.isnan(G), uniap.max_gain(), G)\n",
    "G /= uniap.max_gain()\n",
    "print(G.shape)"
   ],
   "metadata": {
    "collapsed": false
   }
  },
  {
   "cell_type": "code",
   "execution_count": 13,
   "outputs": [
    {
     "name": "stdout",
     "output_type": "stream",
     "text": [
      "(101,)\n"
     ]
    },
    {
     "data": {
      "text/plain": "[<matplotlib.lines.Line2D at 0x1a7ee4548b0>]"
     },
     "execution_count": 13,
     "metadata": {},
     "output_type": "execute_result"
    },
    {
     "data": {
      "text/plain": "<Figure size 640x480 with 1 Axes>",
      "image/png": "[encoded data removed]"
     },
     "metadata": {},
     "output_type": "display_data"
    }
   ],
   "source": [
    "fig, ax = plt.subplots(1)\n",
    "print(dop_ax.shape)\n",
    "ax.plot(dop_ax, 10 * np.log10(G[0,:] ** 2))\n"
   ],
   "metadata": {
    "collapsed": false
   }
  },
  {
   "cell_type": "code",
   "execution_count": 14,
   "outputs": [
    {
     "data": {
      "text/plain": "array([0.40520691, 0.42150227, 0.43795192, 0.45453684, 0.47123749,\n       0.48803384, 0.50490543, 0.52183136, 0.53879036, 0.55576082,\n       0.57272084, 0.58964824, 0.60652064, 0.62331547, 0.64001002,\n       0.65658151, 0.67300708, 0.6892639 , 0.70532915, 0.72118012,\n       0.7367942 , 0.75214898, 0.76722226, 0.7819921 , 0.79643686,\n       0.81053526, 0.82426642, 0.83760987, 0.85054565, 0.86305428,\n       0.87511687, 0.88671512, 0.89783134, 0.90844855, 0.91855044,\n       0.92812147, 0.93714684, 0.94561258, 0.95350555, 0.96081344,\n       0.96752487, 0.97362933, 0.97911728, 0.98398008, 0.98821012,\n       0.99180072, 0.99474624, 0.99704204, 0.99868449, 0.99967099,\n       1.        , 0.99967099, 0.99868449, 0.99704204, 0.99474624,\n       0.99180072, 0.98821012, 0.98398008, 0.97911728, 0.97362933,\n       0.96752487, 0.96081344, 0.95350555, 0.94561258, 0.93714684,\n       0.92812147, 0.91855044, 0.90844855, 0.89783134, 0.88671512,\n       0.87511687, 0.86305428, 0.85054565, 0.83760987, 0.82426642,\n       0.81053526, 0.79643686, 0.7819921 , 0.76722226, 0.75214898,\n       0.7367942 , 0.72118012, 0.70532915, 0.6892639 , 0.67300708,\n       0.65658151, 0.64001002, 0.62331547, 0.60652064, 0.58964824,\n       0.57272084, 0.55576082, 0.53879036, 0.52183136, 0.50490543,\n       0.48803384, 0.47123749, 0.45453684, 0.43795192, 0.42150227,\n       0.40520691])"
     },
     "execution_count": 14,
     "metadata": {},
     "output_type": "execute_result"
    }
   ],
   "source": [
    "G[0, :]"
   ],
   "metadata": {
    "collapsed": false
   }
  },
  {
   "cell_type": "code",
   "execution_count": 15,
   "outputs": [],
   "source": [
    "# as a function:\n",
    "# Gain_from_doppler\n",
    "def gain_from_doppler(doppler_mesh, incidence_mesh, radGeo: RadarGeometry, uniap: UniformAperture, lambda_c, v_s,\n",
    "                      h=500e3):\n",
    "    \"\"\"\n",
    "    returns the antennna pattern peak approximately close to the doppler point of choice\n",
    "    :param doppler: doppler axis\n",
    "    :param incidence: incidence angle of scene center\n",
    "    :param radGeo: radar Geometry object\n",
    "    :param uniap: uniform aperture object\n",
    "    :param v_s: orbital speed\n",
    "    :param h: platform height\n",
    "    :return: gain pattern, maximum gain broadside\n",
    "    \"\"\"\n",
    "    # doppler incidence angle\n",
    "    D, I = doppler_mesh, incidence_mesh\n",
    "    # Incidence azimuth position stationary slow time\n",
    "    I, A, Tk = mesh_doppler_to_azimuth(I, D, lambda_c, v_s, h)\n",
    "    # gcs coordinate\n",
    "    X, Y, Z = mesh_incidence_azimuth_to_gcs(I, A, lambda_c, v_s, h)\n",
    "    # lcs coordinate\n",
    "    Xl, Yl, Zl = mesh_gcs_to_lcs(X, Y, Z, radGeo.Bc2s, radGeo.S_0)\n",
    "    # lcs spherical coordinates\n",
    "    R, T, P = meshCart2sph(Xl, Yl, Zl)\n",
    "\n",
    "    # phi allingnment step\n",
    "    # allign Phi coordinate to closest 0 , 180 value\n",
    "    P = np.round(P / np.pi) * np.pi\n",
    "    P = np.where(P == 0, 2 * np.pi, P)\n",
    "\n",
    "    G = uniap.mesh_gain_pattern_theor(T, P)\n",
    "    G = np.where(np.isnan(G), uniap.max_gain(), G)\n",
    "    maxg = uniap.max_gain()\n",
    "    return G, maxg\n",
    "\n"
   ],
   "metadata": {
    "collapsed": false
   }
  },
  {
   "cell_type": "markdown",
   "source": [
    "the AASR function can then be implemented as"
   ],
   "metadata": {
    "collapsed": false
   }
  },
  {
   "cell_type": "code",
   "execution_count": 16,
   "outputs": [],
   "source": [
    "#from ambiguity_functions import gain_from_doppler"
   ],
   "metadata": {
    "collapsed": false
   }
  },
  {
   "cell_type": "markdown",
   "source": [],
   "metadata": {
    "collapsed": false
   }
  },
  {
   "cell_type": "code",
   "execution_count": 17,
   "outputs": [
    {
     "data": {
      "text/plain": "array([4820.51887593])"
     },
     "execution_count": 17,
     "metadata": {},
     "output_type": "execute_result"
    }
   ],
   "source": [
    "D, I = np.meshgrid(dop_ax, incidence_angle * np.pi / 180)\n",
    "# 1 denominator\n",
    "den_g, maxg = gain_from_doppler(D, I, radGeo, uniap, lambda_c, v_s, h)\n",
    "den_g /= maxg\n",
    "# integrated denominator\n",
    "den = integrate.simps(den_g ** 2, D, axis=1)\n",
    "num = np.zeros_like(den)\n",
    "den"
   ],
   "metadata": {
    "collapsed": false
   }
  },
  {
   "cell_type": "code",
   "execution_count": 18,
   "outputs": [
    {
     "name": "stderr",
     "output_type": "stream",
     "text": [
      "100%|██████████| 91/91 [00:02<00:00, 34.68it/s]"
     ]
    },
    {
     "name": "stdout",
     "output_type": "stream",
     "text": [
      "[-2.58873517]\n"
     ]
    },
    {
     "name": "stderr",
     "output_type": "stream",
     "text": [
      "\n"
     ]
    }
   ],
   "source": [
    "from tqdm import tqdm\n",
    "\n",
    "# 2 numerator sum\n",
    "for nn in tqdm(range(1, int(n + 1))):\n",
    "    #D, I = np.meshgrid(dop_ax, incidence_angle * np.pi / 180)\n",
    "    # positive n\n",
    "    num_g, maxg = gain_from_doppler(D + float(nn * PRF), I, radGeo, uniap, lambda_c, v_s, h)\n",
    "    num_g /= maxg\n",
    "    num += integrate.simps(num_g ** 2, D, axis=1)\n",
    "    # negative n\n",
    "    num_g, maxg = gain_from_doppler(D - float(nn * PRF), I, radGeo, uniap, lambda_c, v_s, h)\n",
    "    num_g /= maxg\n",
    "    num += integrate.simps(num_g ** 2, D, axis=1)\n",
    "print(10 * np.log10(num / den))"
   ],
   "metadata": {
    "collapsed": false
   }
  },
  {
   "cell_type": "code",
   "execution_count": 19,
   "outputs": [
    {
     "name": "stdout",
     "output_type": "stream",
     "text": [
      "-1289.81782079\n",
      "[1317.56022309]\n",
      "(1, 101)\n",
      "(101,)\n"
     ]
    },
    {
     "data": {
      "text/plain": "<Figure size 640x480 with 1 Axes>",
      "image/png": "[encoded data removed]"
     },
     "metadata": {},
     "output_type": "display_data"
    }
   ],
   "source": [
    "Dj, I = np.meshgrid(dop_ax-PRF, incidence_angle * np.pi / 180)\n",
    "print(Dj[0,-1])\n",
    "num_g, maxg = gain_from_doppler(Dj, I, radGeo, uniap, lambda_c, v_s, h)\n",
    "num_g /= maxg\n",
    "nn = integrate.simps(num_g ** 2, D, axis=1)\n",
    "print(nn)\n",
    "fig, ax = plt.subplots(1)\n",
    "ax.plot(dop_ax-PRF, 10 * np.log10(num_g[0]**2))\n",
    "print(num_g.shape)\n",
    "print(dop_ax.shape)\n",
    "ax.plot(dop_ax, 10 * np.log10(den_g[0] ** 2),'r')\n",
    "ax.set_ylim(-20,0.5)\n",
    "plt.show()"
   ],
   "metadata": {
    "collapsed": false
   }
  },
  {
   "cell_type": "markdown",
   "source": [
    "## AASR function"
   ],
   "metadata": {
    "collapsed": false
   }
  },
  {
   "cell_type": "code",
   "execution_count": 20,
   "outputs": [
    {
     "name": "stdout",
     "output_type": "stream",
     "text": [
      "[4820.51887593]\n"
     ]
    },
    {
     "name": "stderr",
     "output_type": "stream",
     "text": [
      "100%|██████████| 91/91 [00:02<00:00, 31.39it/s]\n"
     ]
    }
   ],
   "source": [
    "from ambiguity_functions import AASR\n",
    "\n",
    "aasr = AASR(radGeo, uniap, incidence_angle, PRF, Bd, lambda_c)"
   ],
   "metadata": {
    "collapsed": false
   }
  },
  {
   "cell_type": "markdown",
   "source": [],
   "metadata": {
    "collapsed": false
   }
  },
  {
   "cell_type": "code",
   "execution_count": 21,
   "outputs": [
    {
     "name": "stdout",
     "output_type": "stream",
     "text": [
      "[-2.58873517]\n"
     ]
    }
   ],
   "source": [
    "print(10 * np.log10(aasr))"
   ],
   "metadata": {
    "collapsed": false
   }
  },
  {
   "cell_type": "code",
   "execution_count": 22,
   "outputs": [
    {
     "data": {
      "text/plain": "30.61736399532574"
     },
     "execution_count": 22,
     "metadata": {},
     "output_type": "execute_result"
    }
   ],
   "source": [
    "incidence_angle"
   ],
   "metadata": {
    "collapsed": false
   }
  },
  {
   "cell_type": "code",
   "execution_count": 22,
   "outputs": [],
   "source": [],
   "metadata": {
    "collapsed": false
   }
  }
 ],
 "metadata": {
  "kernelspec": {
   "display_name": "Python 3",
   "language": "python",
   "name": "python3"
  },
  "language_info": {
   "codemirror_mode": {
    "name": "ipython",
    "version": 2
   },
   "file_extension": ".py",
   "mimetype": "text/x-python",
   "name": "python",
   "nbconvert_exporter": "python",
   "pygments_lexer": "ipython2",
   "version": "2.7.6"
  }
 },
 "nbformat": 4,
 "nbformat_minor": 0
}
