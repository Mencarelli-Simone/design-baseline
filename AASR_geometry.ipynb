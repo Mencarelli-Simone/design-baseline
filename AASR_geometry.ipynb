{
 "cells": [
  {
   "cell_type": "markdown",
   "source": [
    "# Problem:\n",
    "The AASR can be calculated as the integrated gain pattern considering the worst case abiguous return. This means integrating the antenna pattern on the main lobe line.\n",
    "In spherical coordinates, however this does not correspond to a range line. Finding the coordinates of the antenna peak on ground, involves finding the intersection between a plane and a sphere.\n"
   ],
   "metadata": {
    "collapsed": false
   }
  },
  {
   "cell_type": "markdown",
   "source": [
    "For the side-looking radar in right handed earth-centric cartesian coordinates:\n",
    "plane:\n",
    "\\begin{equation}\n",
    "    -y \\cos(\\beta) + z \\sin(\\beta) = (R_e + h) \\sin(\\beta)\n",
    "\\end{equation}\n",
    "earth spherical approximation:\n",
    "\\begin{equation}\n",
    "    x^2 + y^2 +z^2=R_e^2\n",
    "\\end{equation}"
   ],
   "metadata": {
    "collapsed": false
   }
  },
  {
   "cell_type": "code",
   "execution_count": 3,
   "outputs": [],
   "source": [
    "from sympy import *\n",
    "\n",
    "x, y, z = symbols(('x', 'y', 'z'))\n",
    "re, h, beta = symbols(('R_e', 'h', '\\\\beta'))"
   ],
   "metadata": {
    "collapsed": false
   }
  },
  {
   "cell_type": "code",
   "execution_count": 21,
   "outputs": [],
   "source": [
    "plane = Eq(-y * cos(beta) + z * sin(beta) - (re + h) * sin(beta), 0)\n",
    "sphere = Eq(x**2 + y**2 + z**2 - re**2, 0)"
   ],
   "metadata": {
    "collapsed": false
   }
  },
  {
   "cell_type": "code",
   "execution_count": 22,
   "outputs": [
    {
     "data": {
      "text/plain": "Eq(-y*cos(\\beta) + z*sin(\\beta) - (R_e + h)*sin(\\beta), 0)",
      "text/latex": "$\\displaystyle - y \\cos{\\left(\\beta \\right)} + z \\sin{\\left(\\beta \\right)} - \\left(R_{e} + h\\right) \\sin{\\left(\\beta \\right)} = 0$"
     },
     "execution_count": 22,
     "metadata": {},
     "output_type": "execute_result"
    }
   ],
   "source": [
    "plane"
   ],
   "metadata": {
    "collapsed": false
   }
  },
  {
   "cell_type": "code",
   "execution_count": 44,
   "outputs": [
    {
     "name": "stdout",
     "output_type": "stream",
     "text": [
      "Eq(-y*cos(\\beta) + z*sin(\\beta) - (R_e + h)*sin(\\beta), 0)\n"
     ]
    }
   ],
   "source": [
    "print(plane)"
   ],
   "metadata": {
    "collapsed": false
   }
  },
  {
   "cell_type": "code",
   "execution_count": 23,
   "outputs": [
    {
     "data": {
      "text/plain": "Eq(-R_e**2 + x**2 + y**2 + z**2, 0)",
      "text/latex": "$\\displaystyle - R_{e}^{2} + x^{2} + y^{2} + z^{2} = 0$"
     },
     "execution_count": 23,
     "metadata": {},
     "output_type": "execute_result"
    }
   ],
   "source": [
    "sphere"
   ],
   "metadata": {
    "collapsed": false
   }
  },
  {
   "cell_type": "code",
   "execution_count": 43,
   "outputs": [
    {
     "name": "stdout",
     "output_type": "stream",
     "text": [
      "- R_{e}^{2} + x^{2} + y^{2} + z^{2} = 0\n"
     ]
    }
   ],
   "source": [
    "print(latex(sphere))"
   ],
   "metadata": {
    "collapsed": false
   }
  },
  {
   "cell_type": "markdown",
   "source": [
    "## finding the center of the circle projection"
   ],
   "metadata": {
    "collapsed": false
   }
  },
  {
   "cell_type": "code",
   "execution_count": 24,
   "outputs": [
    {
     "data": {
      "text/plain": "R_e**2 - z**2",
      "text/latex": "$\\displaystyle R_{e}^{2} - z^{2}$"
     },
     "execution_count": 24,
     "metadata": {},
     "output_type": "execute_result"
    }
   ],
   "source": [
    "y2 = solve(sphere, y **2)\n",
    "# on the x=0 line\n",
    "y2 = y2[0]\n",
    "y2 = y2.subs(x,0)\n",
    "y2"
   ],
   "metadata": {
    "collapsed": false
   }
  },
  {
   "cell_type": "code",
   "execution_count": 26,
   "outputs": [
    {
     "data": {
      "text/plain": "(-R_e - h + z)**2*tan(\\beta)**2",
      "text/latex": "$\\displaystyle \\left(- R_{e} - h + z\\right)^{2} \\tan^{2}{\\left(\\beta \\right)}$"
     },
     "execution_count": 26,
     "metadata": {},
     "output_type": "execute_result"
    }
   ],
   "source": [
    "y21 = solve(plane, y)\n",
    "y21 = y21[0]**2\n",
    "y21\n"
   ],
   "metadata": {
    "collapsed": false
   }
  },
  {
   "cell_type": "code",
   "execution_count": 28,
   "outputs": [
    {
     "data": {
      "text/plain": "R_e**2 - z**2 - (-R_e - h + z)**2*tan(\\beta)**2",
      "text/latex": "$\\displaystyle R_{e}^{2} - z^{2} - \\left(- R_{e} - h + z\\right)^{2} \\tan^{2}{\\left(\\beta \\right)}$"
     },
     "execution_count": 28,
     "metadata": {},
     "output_type": "execute_result"
    }
   ],
   "source": [
    "# equating\n",
    "eq = y2-y21\n",
    "eq"
   ],
   "metadata": {
    "collapsed": false
   }
  },
  {
   "cell_type": "code",
   "execution_count": 30,
   "outputs": [
    {
     "data": {
      "text/plain": "[((R_e + h)*tan(\\beta)**2 - sqrt(R_e**2 - 2*R_e*h*tan(\\beta)**2 - h**2*tan(\\beta)**2))*cos(\\beta)**2,\n ((R_e + h)*tan(\\beta)**2 + sqrt(R_e**2 - 2*R_e*h*tan(\\beta)**2 - h**2*tan(\\beta)**2))*cos(\\beta)**2]"
     },
     "execution_count": 30,
     "metadata": {},
     "output_type": "execute_result"
    }
   ],
   "source": [
    "# finding z points\n",
    "zz = solve(eq, z)\n",
    "zz"
   ],
   "metadata": {
    "collapsed": false
   }
  },
  {
   "cell_type": "code",
   "execution_count": 52,
   "outputs": [
    {
     "data": {
      "text/plain": "[sqrt((-R_e - h + ((R_e + h)*tan(\\beta)**2 - sqrt(R_e**2 - 2*R_e*h*tan(\\beta)**2 - h**2*tan(\\beta)**2))*cos(\\beta)**2)**2*tan(\\beta)**2),\n sqrt((-R_e - h + ((R_e + h)*tan(\\beta)**2 + sqrt(R_e**2 - 2*R_e*h*tan(\\beta)**2 - h**2*tan(\\beta)**2))*cos(\\beta)**2)**2*tan(\\beta)**2)]"
     },
     "execution_count": 52,
     "metadata": {},
     "output_type": "execute_result"
    }
   ],
   "source": [
    "# finding y points\n",
    "yy = [sqrt(y21.subs(z,zz[0])), sqrt(y21.subs(z,zz[1]))]\n",
    "yy"
   ],
   "metadata": {
    "collapsed": false
   }
  },
  {
   "cell_type": "code",
   "execution_count": 47,
   "outputs": [
    {
     "name": "stdout",
     "output_type": "stream",
     "text": [
      "zz= \\left(R_{e} + h\\right) \\sin^{2}{\\left(\\beta \\right)}\n"
     ]
    }
   ],
   "source": [
    "# center z point\n",
    "zzc = (zz[0] + zz[1]) / 2\n",
    "zzc = simplify(zzc)\n",
    "zzc\n",
    "print('zz=', latex(zzc))"
   ],
   "metadata": {
    "collapsed": false
   }
  },
  {
   "cell_type": "code",
   "execution_count": 54,
   "outputs": [
    {
     "name": "stdout",
     "output_type": "stream",
     "text": [
      "- \\frac{\\sqrt{2} \\left(\\sqrt{- \\left(\\cos{\\left(4 \\beta \\right)} - 1\\right) \\left(R_{e} + h - \\sqrt{R_{e}^{2} - 2 R_{e} h \\tan^{2}{\\left(\\beta \\right)} - h^{2} \\tan^{2}{\\left(\\beta \\right)}}\\right)^{2}} + \\sqrt{- \\left(\\cos{\\left(4 \\beta \\right)} - 1\\right) \\left(R_{e} + h + \\sqrt{R_{e}^{2} - 2 R_{e} h \\tan^{2}{\\left(\\beta \\right)} - h^{2} \\tan^{2}{\\left(\\beta \\right)}}\\right)^{2}}\\right)}{8}\n"
     ]
    }
   ],
   "source": [
    "# center y point\n",
    "yyc = -(yy[0] + yy[1]) / 2\n",
    "yyc = simplify(yyc)\n",
    "print(latex(yyc))"
   ],
   "metadata": {
    "collapsed": false
   }
  },
  {
   "cell_type": "markdown",
   "source": [
    "## finding radius of the intersection circle"
   ],
   "metadata": {
    "collapsed": false
   }
  },
  {
   "cell_type": "code",
   "execution_count": 55,
   "outputs": [],
   "source": [
    "d = sqrt((yy[0]-yy[1])**2 + (zz[0] - zz[1])**2)"
   ],
   "metadata": {
    "collapsed": false
   }
  },
  {
   "cell_type": "code",
   "execution_count": 59,
   "outputs": [],
   "source": [
    "r  = simplify(d /2)"
   ],
   "metadata": {
    "collapsed": false
   }
  },
  {
   "cell_type": "code",
   "execution_count": 60,
   "outputs": [
    {
     "data": {
      "text/plain": "sqrt(2)*sqrt((sqrt(-(cos(4*\\beta) - 1)*(R_e + h - sqrt(R_e**2 - 2*R_e*h*tan(\\beta)**2 - h**2*tan(\\beta)**2))**2) - sqrt(-(cos(4*\\beta) - 1)*(R_e + h + sqrt(R_e**2 - 2*R_e*h*tan(\\beta)**2 - h**2*tan(\\beta)**2))**2))**2 - 32*(-R_e**2 + 2*R_e*h*tan(\\beta)**2 + h**2*tan(\\beta)**2)*cos(\\beta)**4)/8",
      "text/latex": "$\\displaystyle \\frac{\\sqrt{2} \\sqrt{\\left(\\sqrt{- \\left(\\cos{\\left(4 \\beta \\right)} - 1\\right) \\left(R_{e} + h - \\sqrt{R_{e}^{2} - 2 R_{e} h \\tan^{2}{\\left(\\beta \\right)} - h^{2} \\tan^{2}{\\left(\\beta \\right)}}\\right)^{2}} - \\sqrt{- \\left(\\cos{\\left(4 \\beta \\right)} - 1\\right) \\left(R_{e} + h + \\sqrt{R_{e}^{2} - 2 R_{e} h \\tan^{2}{\\left(\\beta \\right)} - h^{2} \\tan^{2}{\\left(\\beta \\right)}}\\right)^{2}}\\right)^{2} - 32 \\left(- R_{e}^{2} + 2 R_{e} h \\tan^{2}{\\left(\\beta \\right)} + h^{2} \\tan^{2}{\\left(\\beta \\right)}\\right) \\cos^{4}{\\left(\\beta \\right)}}}{8}$"
     },
     "execution_count": 60,
     "metadata": {},
     "output_type": "execute_result"
    }
   ],
   "source": [
    "r"
   ],
   "metadata": {
    "collapsed": false
   }
  },
  {
   "cell_type": "code",
   "execution_count": 61,
   "outputs": [
    {
     "name": "stdout",
     "output_type": "stream",
     "text": [
      "\\frac{\\sqrt{2} \\sqrt{\\left(\\sqrt{- \\left(\\cos{\\left(4 \\beta \\right)} - 1\\right) \\left(R_{e} + h - \\sqrt{R_{e}^{2} - 2 R_{e} h \\tan^{2}{\\left(\\beta \\right)} - h^{2} \\tan^{2}{\\left(\\beta \\right)}}\\right)^{2}} - \\sqrt{- \\left(\\cos{\\left(4 \\beta \\right)} - 1\\right) \\left(R_{e} + h + \\sqrt{R_{e}^{2} - 2 R_{e} h \\tan^{2}{\\left(\\beta \\right)} - h^{2} \\tan^{2}{\\left(\\beta \\right)}}\\right)^{2}}\\right)^{2} - 32 \\left(- R_{e}^{2} + 2 R_{e} h \\tan^{2}{\\left(\\beta \\right)} + h^{2} \\tan^{2}{\\left(\\beta \\right)}\\right) \\cos^{4}{\\left(\\beta \\right)}}}{8}\n"
     ]
    }
   ],
   "source": [
    "print(latex(r))"
   ],
   "metadata": {
    "collapsed": false
   }
  },
  {
   "cell_type": "markdown",
   "source": [
    "# normal vector to intersection circle\n",
    "\\begin{equation}\n",
    "    \\hat{n} = \\left( 0, -\\cos\\beta, \\sin\\beta \\right)\n",
    "\n",
    "\\end{equation}"
   ],
   "metadata": {
    "collapsed": false
   }
  },
  {
   "cell_type": "code",
   "execution_count": null,
   "outputs": [],
   "source": [
    "# array of points"
   ],
   "metadata": {
    "collapsed": false
   }
  }
 ],
 "metadata": {
  "kernelspec": {
   "display_name": "Python 3",
   "language": "python",
   "name": "python3"
  },
  "language_info": {
   "codemirror_mode": {
    "name": "ipython",
    "version": 2
   },
   "file_extension": ".py",
   "mimetype": "text/x-python",
   "name": "python",
   "nbconvert_exporter": "python",
   "pygments_lexer": "ipython2",
   "version": "2.7.6"
  }
 },
 "nbformat": 4,
 "nbformat_minor": 0
}
